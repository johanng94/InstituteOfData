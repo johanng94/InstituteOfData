{
 "cells": [
  {
   "cell_type": "code",
   "execution_count": 2,
   "id": "female-blond",
   "metadata": {},
   "outputs": [],
   "source": [
    "#Import Libraries\n",
    "import pandas as pd"
   ]
  },
  {
   "cell_type": "code",
   "execution_count": 13,
   "id": "specialized-buddy",
   "metadata": {},
   "outputs": [],
   "source": [
    "#read depression csv\n",
    "def combine_data(word):\n",
    "    word_18 = pd.read_csv(f'{word}_2018.csv')\n",
    "    word_19 = pd.read_csv(f'{word}_2019.csv')\n",
    "    word_20 = pd.read_csv(f'{word}_2020.csv')\n",
    "\n",
    "    frames = [word_18,word_19,word_20]\n",
    "    df = pd.concat(frames)\n",
    "    return df"
   ]
  },
  {
   "cell_type": "code",
   "execution_count": 20,
   "id": "formed-gross",
   "metadata": {},
   "outputs": [
    {
     "data": {
      "text/plain": [
       "(96122, 4)"
      ]
     },
     "execution_count": 20,
     "metadata": {},
     "output_type": "execute_result"
    }
   ],
   "source": [
    "df_dep = combine_data('depression')\n",
    "df_dep.shape"
   ]
  },
  {
   "cell_type": "code",
   "execution_count": 21,
   "id": "deadly-summary",
   "metadata": {},
   "outputs": [
    {
     "data": {
      "text/plain": [
       "(2824, 4)"
      ]
     },
     "execution_count": 21,
     "metadata": {},
     "output_type": "execute_result"
    }
   ],
   "source": [
    "df_alc = combine_data('alcohol')\n",
    "df_alc.shape"
   ]
  },
  {
   "cell_type": "code",
   "execution_count": 22,
   "id": "amino-medicare",
   "metadata": {},
   "outputs": [
    {
     "data": {
      "text/plain": [
       "(37695, 4)"
      ]
     },
     "execution_count": 22,
     "metadata": {},
     "output_type": "execute_result"
    }
   ],
   "source": [
    "df_anx = combine_data('anxiety')\n",
    "df_anx.shape"
   ]
  },
  {
   "cell_type": "code",
   "execution_count": 23,
   "id": "contained-abuse",
   "metadata": {},
   "outputs": [
    {
     "data": {
      "text/plain": [
       "(3060, 4)"
      ]
     },
     "execution_count": 23,
     "metadata": {},
     "output_type": "execute_result"
    }
   ],
   "source": [
    "df_bip = combine_data('bipolar')\n",
    "df_bip.shape"
   ]
  },
  {
   "cell_type": "code",
   "execution_count": 24,
   "id": "western-running",
   "metadata": {},
   "outputs": [
    {
     "data": {
      "text/plain": [
       "(4431, 4)"
      ]
     },
     "execution_count": 24,
     "metadata": {},
     "output_type": "execute_result"
    }
   ],
   "source": [
    "df_schizo = combine_data('schizo')\n",
    "df_schizo.shape"
   ]
  },
  {
   "cell_type": "code",
   "execution_count": 25,
   "id": "earlier-parks",
   "metadata": {},
   "outputs": [
    {
     "data": {
      "text/plain": [
       "(35022, 4)"
      ]
     },
     "execution_count": 25,
     "metadata": {},
     "output_type": "execute_result"
    }
   ],
   "source": [
    "df_suicide = combine_data('suicide')\n",
    "df_suicide.shape"
   ]
  },
  {
   "cell_type": "code",
   "execution_count": 27,
   "id": "sought-lebanon",
   "metadata": {},
   "outputs": [
    {
     "data": {
      "text/plain": [
       "(104698, 4)"
      ]
     },
     "execution_count": 27,
     "metadata": {},
     "output_type": "execute_result"
    }
   ],
   "source": [
    "df_finance = combine_data('personalfinance')\n",
    "df_finance.shape"
   ]
  },
  {
   "cell_type": "code",
   "execution_count": 28,
   "id": "bound-wallace",
   "metadata": {},
   "outputs": [
    {
     "data": {
      "text/plain": [
       "(62186, 4)"
      ]
     },
     "execution_count": 28,
     "metadata": {},
     "output_type": "execute_result"
    }
   ],
   "source": [
    "df_relation = combine_data('relationships')\n",
    "df_relation.shape"
   ]
  },
  {
   "cell_type": "code",
   "execution_count": 31,
   "id": "intense-desktop",
   "metadata": {},
   "outputs": [],
   "source": [
    "#166884 control posts\n",
    "#179154 for mental health-related\n",
    "\n",
    "combined_mental = [df_dep,df_alc,df_anx,df_bip,df_schizo,df_suicide]\n",
    "combined_control = [df_finance,df_relation]\n",
    "\n",
    "df_mh = pd.concat(combined_mental)\n",
    "df_control = pd.concat(combined_control)"
   ]
  },
  {
   "cell_type": "code",
   "execution_count": 35,
   "id": "indian-address",
   "metadata": {},
   "outputs": [],
   "source": [
    "df_mh.to_csv('mh.csv', index = False)\n",
    "df_control.to_csv('control.csv',index = False)"
   ]
  },
  {
   "cell_type": "code",
   "execution_count": 38,
   "id": "severe-example",
   "metadata": {},
   "outputs": [],
   "source": [
    "total = [df_mh,df_control]\n",
    "df_all = pd.concat(total)\n",
    "df_all.to_csv('combined.csv',index = False)"
   ]
  },
  {
   "cell_type": "code",
   "execution_count": null,
   "id": "powered-daisy",
   "metadata": {},
   "outputs": [],
   "source": []
  }
 ],
 "metadata": {
  "kernelspec": {
   "display_name": "Python 3",
   "language": "python",
   "name": "python3"
  },
  "language_info": {
   "codemirror_mode": {
    "name": "ipython",
    "version": 3
   },
   "file_extension": ".py",
   "mimetype": "text/x-python",
   "name": "python",
   "nbconvert_exporter": "python",
   "pygments_lexer": "ipython3",
   "version": "3.8.5"
  }
 },
 "nbformat": 4,
 "nbformat_minor": 5
}
