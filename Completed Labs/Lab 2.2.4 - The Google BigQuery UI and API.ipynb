{
 "cells": [
  {
   "cell_type": "markdown",
   "metadata": {
    "colab_type": "text",
    "id": "QaGbHIhQLFYq"
   },
   "source": [
    "<div>\n",
    "<img src=https://www.institutedata.com/wp-content/uploads/2019/10/iod_h_tp_primary_c.svg width=\"300\">\n",
    "</div>"
   ]
  },
  {
   "cell_type": "markdown",
   "metadata": {
    "colab_type": "text",
    "id": "sMx6dqz7LFYv"
   },
   "source": [
    "# Lab 2.2.4 \n",
    "# *The Google BigQuery UI and API*"
   ]
  },
  {
   "cell_type": "markdown",
   "metadata": {
    "colab_type": "text",
    "id": "SKGiPVSwLFYx"
   },
   "source": [
    "## Introduction"
   ]
  },
  {
   "cell_type": "markdown",
   "metadata": {
    "colab_type": "text",
    "id": "aKMV45iQLFY2"
   },
   "source": [
    "The Google BigQuery UI provides access to Google's extensive collection of public data sets via an SQL-based query engine. \n",
    "\n",
    "The BigQuery API provides programmatic access to the data sets.\n",
    "\n",
    "We can use the UI to discover interesting data before writing Python code to access it. Then we can reproduce it in an API request so as to aggregate large amounts of data on Google's infrastructure before pulling the results into our application."
   ]
  },
  {
   "cell_type": "markdown",
   "metadata": {
    "colab_type": "text",
    "id": "q3JonnfULFY6"
   },
   "source": [
    "## BigQuery Web UI\n",
    "\n",
    "Work through the Quickstart at https://cloud.google.com/bigquery/docs/quickstarts/quickstart-web-ui.\n",
    "\n",
    "You will need to set up a Google Cloud Platform account if you don't already have one. (This should not cost anything during the trial period unless you perform a large amount of querying. Afterwards, costs are based on actual resource usage, but most offerings have a free tier.)"
   ]
  },
  {
   "cell_type": "markdown",
   "metadata": {
    "colab_type": "text",
    "id": "QM5QOIBpLFY9"
   },
   "source": [
    "## BigQuery API\n",
    "\n",
    "You should already have the Google Cloud Client Library for Python installed (https://cloud.google.com/python/setup).\n",
    "\n",
    "- Open Google Cloud Console (https://console.cloud.google.com/home/) and select to create a project.\n",
    "\n",
    "- Under \"Getting Started\", select \"Enable APIs and get credentials such as keys\"."
   ]
  },
  {
   "cell_type": "markdown",
   "metadata": {
    "colab_type": "text",
    "id": "0Ni9g5D7LFY_"
   },
   "source": [
    "- In the API table, make sure the BigQuery API is enabled. Page back."
   ]
  },
  {
   "cell_type": "markdown",
   "metadata": {
    "colab_type": "text",
    "id": "FYjui9nrLFZC"
   },
   "source": [
    "### Authentication\n",
    "\n",
    "Go to https://cloud.google.com/docs/authentication/production and click the button to create a service account."
   ]
  },
  {
   "cell_type": "markdown",
   "metadata": {
    "colab_type": "text",
    "id": "OYryTo8SLFZE"
   },
   "source": [
    "- Fill out the form, giving the account an appropriate name, and choose \"Project Owner\" for Account Type.\n",
    "\n",
    "- Click \"Create\"."
   ]
  },
  {
   "cell_type": "markdown",
   "metadata": {
    "colab_type": "text",
    "id": "lUx6uvpALFZF"
   },
   "source": [
    "- The keys will get saved to your computer.\n",
    "\n",
    "- Note the location and copy the file path (of the json file) to somewhere safe, for future reference."
   ]
  },
  {
   "cell_type": "markdown",
   "metadata": {
    "colab_type": "text",
    "id": "DnYr6eJ-LFZH"
   },
   "source": [
    "- See here for more information:\n",
    "\n",
    "https://cloud.google.com/iam/docs/understanding-service-accounts?&_ga=2.173177830.-495703703.1532572448#managing_service_account_keys "
   ]
  },
  {
   "cell_type": "markdown",
   "metadata": {
    "colab_type": "text",
    "id": "pQKOrjk8LFZI"
   },
   "source": [
    "This is supposed to get implicit key retrieval working:\n",
    "\n",
    "- Windows:\n",
    "    `set GOOGLE_APPLICATION_CREDENTIALS=[PATH]`\n",
    "    \n",
    "- Linux, MacOS:\n",
    "    `export GOOGLE_APPLICATION_CREDENTIALS=[PATH]`\n",
    "    \n",
    "where `[PATH]` is the full file path of your json key file."
   ]
  },
  {
   "cell_type": "code",
   "execution_count": 1,
   "metadata": {},
   "outputs": [],
   "source": [
    "# export GOOGLE_APPLICATION_CREDENTIALS=[\"/Users/JohanNg/googlecloud.json\"]"
   ]
  },
  {
   "cell_type": "markdown",
   "metadata": {
    "colab_type": "text",
    "id": "5pvHgwVcLFZJ"
   },
   "source": [
    "### Using the Python API\n",
    "\n",
    "Google provides Python libraries for wrapping the Google APIs. For conda users, these are available on the \"conda-forge\" channel. (There are other Python libraries for Google APIs, possibly adding novel features or ease of use, but Google's is presumably the most current.)\n",
    "\n",
    "__(Installing the \"google-cloud-storage\" and \"google-cloud-bigquery\" libraries should cover all the dependences for this lab.)__ \n",
    "If you have not installed these modules, run `conda install -c conda-forge google-cloud-storage google-cloud-bigquery` in a Terminal (Mac/Linux) or if on Windows, Anaconda Prompt (Anaconda), and follow the prompts."
   ]
  },
  {
   "cell_type": "code",
   "execution_count": 44,
   "metadata": {
    "colab": {},
    "colab_type": "code",
    "id": "0o5eABcXLFZL"
   },
   "outputs": [],
   "source": [
    "from google.cloud import bigquery\n",
    "from google.cloud.bigquery import Dataset\n",
    "from google.cloud import storage"
   ]
  },
  {
   "cell_type": "markdown",
   "metadata": {
    "colab_type": "text",
    "id": "olVeVnL_LFZO"
   },
   "source": [
    "If you have managed to get implicit key retrieval working, you can call `.Client()` with no argument:"
   ]
  },
  {
   "cell_type": "code",
   "execution_count": 3,
   "metadata": {
    "colab": {},
    "colab_type": "code",
    "id": "qR2cXGt4LFZP"
   },
   "outputs": [],
   "source": [
    "# storage_client = storage.Client()"
   ]
  },
  {
   "cell_type": "markdown",
   "metadata": {
    "colab_type": "text",
    "id": "hHZQSxxqLFZR"
   },
   "source": [
    "If you aren't so lucky, you need to invoke a method of the `.Client` object that takes the path to your key files as a string argument:"
   ]
  },
  {
   "cell_type": "code",
   "execution_count": 4,
   "metadata": {
    "colab": {},
    "colab_type": "code",
    "id": "8nTBh0TvLFZR"
   },
   "outputs": [],
   "source": [
    "# key_path = '[PATH]'  # put the path to your json key file here \n",
    "#,                    (or write code to load it from a file that your notebook can easily find)\n",
    "key_path = '/Users/JohanNg/googlecloud.json'"
   ]
  },
  {
   "cell_type": "markdown",
   "metadata": {
    "colab_type": "text",
    "id": "0XKIHVy8LFZT"
   },
   "source": [
    "This should not throw an error if key retrieval / assignemnt worked:"
   ]
  },
  {
   "cell_type": "code",
   "execution_count": 5,
   "metadata": {
    "colab": {},
    "colab_type": "code",
    "id": "gfqDJPU9LFZT"
   },
   "outputs": [],
   "source": [
    "storage_client = storage.Client.from_service_account_json(key_path)"
   ]
  },
  {
   "cell_type": "markdown",
   "metadata": {
    "colab_type": "text",
    "id": "Z1sntjgJLFZU"
   },
   "source": [
    "*Nb. The `storage` object was used in the above example, but there are other objects of interest that have polymorphic `Client` members that are used similarly, such as `bigquery`, which is used below.*"
   ]
  },
  {
   "cell_type": "markdown",
   "metadata": {
    "colab_type": "text",
    "id": "UBEZd1KiLFZV"
   },
   "source": [
    "If implicit key retrieval is working for you, execute this:"
   ]
  },
  {
   "cell_type": "code",
   "execution_count": 6,
   "metadata": {
    "colab": {},
    "colab_type": "code",
    "id": "QL7DoAX7LFZV"
   },
   "outputs": [],
   "source": [
    "# client = bigquery.Client()"
   ]
  },
  {
   "cell_type": "markdown",
   "metadata": {
    "colab_type": "text",
    "id": "zSA3wp7NLFZX"
   },
   "source": [
    "if not, execute this:"
   ]
  },
  {
   "cell_type": "code",
   "execution_count": 7,
   "metadata": {
    "colab": {},
    "colab_type": "code",
    "id": "ljcqTlxXLFZX"
   },
   "outputs": [],
   "source": [
    "client = bigquery.Client.from_service_account_json(key_path)"
   ]
  },
  {
   "cell_type": "markdown",
   "metadata": {
    "colab_type": "text",
    "id": "kS1b8GXYLFZY"
   },
   "source": [
    "This client is associated with the default project (which was set or defaulted in the BigQuery UI): "
   ]
  },
  {
   "cell_type": "code",
   "execution_count": 8,
   "metadata": {
    "colab": {},
    "colab_type": "code",
    "id": "LflN4IlzLFZY"
   },
   "outputs": [
    {
     "data": {
      "text/plain": [
       "'glowing-bird-305005'"
      ]
     },
     "execution_count": 8,
     "metadata": {},
     "output_type": "execute_result"
    }
   ],
   "source": [
    "client.project"
   ]
  },
  {
   "cell_type": "markdown",
   "metadata": {
    "colab_type": "text",
    "id": "BXQNVF1XLFZb"
   },
   "source": [
    "A BigQuery project contains datasets. Datasets contain tables. To get at the data in a table we need to create a reference that covers this hierarchy; in the `bigquery` library this looks like `project.dataset.table`.  \n",
    "\n",
    "(Nb. Queries can be performed on prjects and datasets, but most queries are performed on tables.)"
   ]
  },
  {
   "cell_type": "markdown",
   "metadata": {
    "colab_type": "text",
    "id": "fOtLSyBdLFZb"
   },
   "source": [
    "To explore the public datasets we will start by reassgining our `client` variable using optional `project` parameter (set to `bigquery-public-data`):"
   ]
  },
  {
   "cell_type": "code",
   "execution_count": 9,
   "metadata": {
    "colab": {},
    "colab_type": "code",
    "id": "SQTQ24whLFZc"
   },
   "outputs": [
    {
     "name": "stdout",
     "output_type": "stream",
     "text": [
      "bigquery-public-data\n"
     ]
    }
   ],
   "source": [
    "#project = 'bigquery-public-data'\n",
    "client = bigquery.Client.from_service_account_json(key_path, project = 'bigquery-public-data')\n",
    "print(client.project)"
   ]
  },
  {
   "cell_type": "markdown",
   "metadata": {
    "colab_type": "text",
    "id": "ZonWy10xLFZe"
   },
   "source": [
    "Here is how to get a list of the datasets in the current project:"
   ]
  },
  {
   "cell_type": "code",
   "execution_count": 10,
   "metadata": {
    "colab": {},
    "colab_type": "code",
    "id": "yQan0v1vLFZe"
   },
   "outputs": [
    {
     "name": "stdout",
     "output_type": "stream",
     "text": [
      "[<google.cloud.bigquery.dataset.DatasetListItem object at 0x7fbd698cc670>, <google.cloud.bigquery.dataset.DatasetListItem object at 0x7fbd480989a0>, <google.cloud.bigquery.dataset.DatasetListItem object at 0x7fbd480b3370>, <google.cloud.bigquery.dataset.DatasetListItem object at 0x7fbd480b33d0>, <google.cloud.bigquery.dataset.DatasetListItem object at 0x7fbd480b34f0>, <google.cloud.bigquery.dataset.DatasetListItem object at 0x7fbd480b3b20>, <google.cloud.bigquery.dataset.DatasetListItem object at 0x7fbd480b3df0>, <google.cloud.bigquery.dataset.DatasetListItem object at 0x7fbd480b3ee0>, <google.cloud.bigquery.dataset.DatasetListItem object at 0x7fbd480cf340>, <google.cloud.bigquery.dataset.DatasetListItem object at 0x7fbd480cf670>, <google.cloud.bigquery.dataset.DatasetListItem object at 0x7fbd480cf760>, <google.cloud.bigquery.dataset.DatasetListItem object at 0x7fbd480cf6d0>, <google.cloud.bigquery.dataset.DatasetListItem object at 0x7fbd480cf880>, <google.cloud.bigquery.dataset.DatasetListItem object at 0x7fbd480cf5b0>, <google.cloud.bigquery.dataset.DatasetListItem object at 0x7fbd480cf820>, <google.cloud.bigquery.dataset.DatasetListItem object at 0x7fbd480cf370>, <google.cloud.bigquery.dataset.DatasetListItem object at 0x7fbd480cf7c0>, <google.cloud.bigquery.dataset.DatasetListItem object at 0x7fbd480cf8e0>, <google.cloud.bigquery.dataset.DatasetListItem object at 0x7fbd480cf940>, <google.cloud.bigquery.dataset.DatasetListItem object at 0x7fbd480cf9a0>, <google.cloud.bigquery.dataset.DatasetListItem object at 0x7fbd480cfa00>, <google.cloud.bigquery.dataset.DatasetListItem object at 0x7fbd480cfa60>, <google.cloud.bigquery.dataset.DatasetListItem object at 0x7fbd480cfac0>, <google.cloud.bigquery.dataset.DatasetListItem object at 0x7fbd480cfb20>, <google.cloud.bigquery.dataset.DatasetListItem object at 0x7fbd480cfb80>, <google.cloud.bigquery.dataset.DatasetListItem object at 0x7fbd480cfbe0>, <google.cloud.bigquery.dataset.DatasetListItem object at 0x7fbd480cfc40>, <google.cloud.bigquery.dataset.DatasetListItem object at 0x7fbd480cfca0>, <google.cloud.bigquery.dataset.DatasetListItem object at 0x7fbd480cfd00>, <google.cloud.bigquery.dataset.DatasetListItem object at 0x7fbd480cfd60>, <google.cloud.bigquery.dataset.DatasetListItem object at 0x7fbd480cfdc0>, <google.cloud.bigquery.dataset.DatasetListItem object at 0x7fbd480cfe20>, <google.cloud.bigquery.dataset.DatasetListItem object at 0x7fbd480cfe80>, <google.cloud.bigquery.dataset.DatasetListItem object at 0x7fbd480cfee0>, <google.cloud.bigquery.dataset.DatasetListItem object at 0x7fbd480cff40>, <google.cloud.bigquery.dataset.DatasetListItem object at 0x7fbd480cffa0>, <google.cloud.bigquery.dataset.DatasetListItem object at 0x7fbd6ab46040>, <google.cloud.bigquery.dataset.DatasetListItem object at 0x7fbd6ab460a0>, <google.cloud.bigquery.dataset.DatasetListItem object at 0x7fbd6ab46100>, <google.cloud.bigquery.dataset.DatasetListItem object at 0x7fbd6ab46160>, <google.cloud.bigquery.dataset.DatasetListItem object at 0x7fbd6ab461c0>, <google.cloud.bigquery.dataset.DatasetListItem object at 0x7fbd6ab46220>, <google.cloud.bigquery.dataset.DatasetListItem object at 0x7fbd6ab46280>, <google.cloud.bigquery.dataset.DatasetListItem object at 0x7fbd6ab462e0>, <google.cloud.bigquery.dataset.DatasetListItem object at 0x7fbd6ab46340>, <google.cloud.bigquery.dataset.DatasetListItem object at 0x7fbd6ab463a0>, <google.cloud.bigquery.dataset.DatasetListItem object at 0x7fbd6ab46400>, <google.cloud.bigquery.dataset.DatasetListItem object at 0x7fbd6ab46460>, <google.cloud.bigquery.dataset.DatasetListItem object at 0x7fbd6ab464c0>, <google.cloud.bigquery.dataset.DatasetListItem object at 0x7fbd6ab46520>, <google.cloud.bigquery.dataset.DatasetListItem object at 0x7fbd698cc550>, <google.cloud.bigquery.dataset.DatasetListItem object at 0x7fbd480cf850>, <google.cloud.bigquery.dataset.DatasetListItem object at 0x7fbd6ab465e0>, <google.cloud.bigquery.dataset.DatasetListItem object at 0x7fbd6ab466a0>, <google.cloud.bigquery.dataset.DatasetListItem object at 0x7fbd6ab468e0>, <google.cloud.bigquery.dataset.DatasetListItem object at 0x7fbd6ab46880>, <google.cloud.bigquery.dataset.DatasetListItem object at 0x7fbd6ab46820>, <google.cloud.bigquery.dataset.DatasetListItem object at 0x7fbd6ab46970>, <google.cloud.bigquery.dataset.DatasetListItem object at 0x7fbd6ab469d0>, <google.cloud.bigquery.dataset.DatasetListItem object at 0x7fbd6ab46b50>, <google.cloud.bigquery.dataset.DatasetListItem object at 0x7fbd6ab46a90>, <google.cloud.bigquery.dataset.DatasetListItem object at 0x7fbd6ab46c70>, <google.cloud.bigquery.dataset.DatasetListItem object at 0x7fbd6ab46ac0>, <google.cloud.bigquery.dataset.DatasetListItem object at 0x7fbd6ab46be0>, <google.cloud.bigquery.dataset.DatasetListItem object at 0x7fbd6ab46700>, <google.cloud.bigquery.dataset.DatasetListItem object at 0x7fbd6ab46640>, <google.cloud.bigquery.dataset.DatasetListItem object at 0x7fbd6ab46bb0>, <google.cloud.bigquery.dataset.DatasetListItem object at 0x7fbd6ab467f0>, <google.cloud.bigquery.dataset.DatasetListItem object at 0x7fbd6ab46a60>, <google.cloud.bigquery.dataset.DatasetListItem object at 0x7fbd6ab46cd0>, <google.cloud.bigquery.dataset.DatasetListItem object at 0x7fbd6ab46d30>, <google.cloud.bigquery.dataset.DatasetListItem object at 0x7fbd6ab46d90>, <google.cloud.bigquery.dataset.DatasetListItem object at 0x7fbd6ab46df0>, <google.cloud.bigquery.dataset.DatasetListItem object at 0x7fbd6ab46e50>, <google.cloud.bigquery.dataset.DatasetListItem object at 0x7fbd6ab46eb0>, <google.cloud.bigquery.dataset.DatasetListItem object at 0x7fbd6ab46f10>, <google.cloud.bigquery.dataset.DatasetListItem object at 0x7fbd6ab46f70>, <google.cloud.bigquery.dataset.DatasetListItem object at 0x7fbd6ab46fd0>, <google.cloud.bigquery.dataset.DatasetListItem object at 0x7fbd6ab63070>, <google.cloud.bigquery.dataset.DatasetListItem object at 0x7fbd6ab630d0>, <google.cloud.bigquery.dataset.DatasetListItem object at 0x7fbd6ab63130>, <google.cloud.bigquery.dataset.DatasetListItem object at 0x7fbd6ab63190>, <google.cloud.bigquery.dataset.DatasetListItem object at 0x7fbd6ab631f0>, <google.cloud.bigquery.dataset.DatasetListItem object at 0x7fbd6ab63250>, <google.cloud.bigquery.dataset.DatasetListItem object at 0x7fbd6ab632b0>, <google.cloud.bigquery.dataset.DatasetListItem object at 0x7fbd6ab63310>, <google.cloud.bigquery.dataset.DatasetListItem object at 0x7fbd6ab63370>, <google.cloud.bigquery.dataset.DatasetListItem object at 0x7fbd6ab633d0>, <google.cloud.bigquery.dataset.DatasetListItem object at 0x7fbd6ab63430>, <google.cloud.bigquery.dataset.DatasetListItem object at 0x7fbd6ab63490>, <google.cloud.bigquery.dataset.DatasetListItem object at 0x7fbd6ab634f0>, <google.cloud.bigquery.dataset.DatasetListItem object at 0x7fbd6ab63550>, <google.cloud.bigquery.dataset.DatasetListItem object at 0x7fbd6ab635b0>, <google.cloud.bigquery.dataset.DatasetListItem object at 0x7fbd6ab63610>, <google.cloud.bigquery.dataset.DatasetListItem object at 0x7fbd6ab63670>, <google.cloud.bigquery.dataset.DatasetListItem object at 0x7fbd6ab636d0>, <google.cloud.bigquery.dataset.DatasetListItem object at 0x7fbd6ab63730>, <google.cloud.bigquery.dataset.DatasetListItem object at 0x7fbd6ab63790>, <google.cloud.bigquery.dataset.DatasetListItem object at 0x7fbd6ab637f0>, <google.cloud.bigquery.dataset.DatasetListItem object at 0x7fbd6ab63850>, <google.cloud.bigquery.dataset.DatasetListItem object at 0x7fbd69c6b790>, <google.cloud.bigquery.dataset.DatasetListItem object at 0x7fbd6ab63940>, <google.cloud.bigquery.dataset.DatasetListItem object at 0x7fbd6ab63af0>, <google.cloud.bigquery.dataset.DatasetListItem object at 0x7fbd6ab63b80>, <google.cloud.bigquery.dataset.DatasetListItem object at 0x7fbd6ab63be0>, <google.cloud.bigquery.dataset.DatasetListItem object at 0x7fbd6ab63d30>, <google.cloud.bigquery.dataset.DatasetListItem object at 0x7fbd6ab63a90>, <google.cloud.bigquery.dataset.DatasetListItem object at 0x7fbd6ab63e20>, <google.cloud.bigquery.dataset.DatasetListItem object at 0x7fbd6ab63df0>, <google.cloud.bigquery.dataset.DatasetListItem object at 0x7fbd6ab63c70>, <google.cloud.bigquery.dataset.DatasetListItem object at 0x7fbd6ab63c40>, <google.cloud.bigquery.dataset.DatasetListItem object at 0x7fbd6ab63cd0>, <google.cloud.bigquery.dataset.DatasetListItem object at 0x7fbd6ab63ee0>, <google.cloud.bigquery.dataset.DatasetListItem object at 0x7fbd6ab63a30>, <google.cloud.bigquery.dataset.DatasetListItem object at 0x7fbd6ab63970>, <google.cloud.bigquery.dataset.DatasetListItem object at 0x7fbd6ab63eb0>, <google.cloud.bigquery.dataset.DatasetListItem object at 0x7fbd6ab63e80>, <google.cloud.bigquery.dataset.DatasetListItem object at 0x7fbd6ab46c40>, <google.cloud.bigquery.dataset.DatasetListItem object at 0x7fbd6ab660a0>, <google.cloud.bigquery.dataset.DatasetListItem object at 0x7fbd6ab66100>, <google.cloud.bigquery.dataset.DatasetListItem object at 0x7fbd6ab66160>, <google.cloud.bigquery.dataset.DatasetListItem object at 0x7fbd6ab661c0>, <google.cloud.bigquery.dataset.DatasetListItem object at 0x7fbd6ab66220>, <google.cloud.bigquery.dataset.DatasetListItem object at 0x7fbd6ab66280>, <google.cloud.bigquery.dataset.DatasetListItem object at 0x7fbd6ab662e0>, <google.cloud.bigquery.dataset.DatasetListItem object at 0x7fbd6ab66340>, <google.cloud.bigquery.dataset.DatasetListItem object at 0x7fbd6ab663a0>, <google.cloud.bigquery.dataset.DatasetListItem object at 0x7fbd6ab66400>, <google.cloud.bigquery.dataset.DatasetListItem object at 0x7fbd6ab66460>, <google.cloud.bigquery.dataset.DatasetListItem object at 0x7fbd6ab664c0>, <google.cloud.bigquery.dataset.DatasetListItem object at 0x7fbd6ab66520>, <google.cloud.bigquery.dataset.DatasetListItem object at 0x7fbd6ab66580>, <google.cloud.bigquery.dataset.DatasetListItem object at 0x7fbd6ab665e0>, <google.cloud.bigquery.dataset.DatasetListItem object at 0x7fbd6ab66640>, <google.cloud.bigquery.dataset.DatasetListItem object at 0x7fbd6ab666a0>, <google.cloud.bigquery.dataset.DatasetListItem object at 0x7fbd6ab66700>, <google.cloud.bigquery.dataset.DatasetListItem object at 0x7fbd6ab66760>, <google.cloud.bigquery.dataset.DatasetListItem object at 0x7fbd6ab667c0>, <google.cloud.bigquery.dataset.DatasetListItem object at 0x7fbd6ab66820>, <google.cloud.bigquery.dataset.DatasetListItem object at 0x7fbd6ab66880>, <google.cloud.bigquery.dataset.DatasetListItem object at 0x7fbd6ab668e0>, <google.cloud.bigquery.dataset.DatasetListItem object at 0x7fbd6ab66940>, <google.cloud.bigquery.dataset.DatasetListItem object at 0x7fbd6ab669a0>, <google.cloud.bigquery.dataset.DatasetListItem object at 0x7fbd6ab66a00>, <google.cloud.bigquery.dataset.DatasetListItem object at 0x7fbd6ab66a60>, <google.cloud.bigquery.dataset.DatasetListItem object at 0x7fbd6ab66ac0>, <google.cloud.bigquery.dataset.DatasetListItem object at 0x7fbd6ab66b20>, <google.cloud.bigquery.dataset.DatasetListItem object at 0x7fbd6ab66b80>, <google.cloud.bigquery.dataset.DatasetListItem object at 0x7fbd6ab66be0>, <google.cloud.bigquery.dataset.DatasetListItem object at 0x7fbd6ab66c40>, <google.cloud.bigquery.dataset.DatasetListItem object at 0x7fbd6ab66cd0>, <google.cloud.bigquery.dataset.DatasetListItem object at 0x7fbd6ab66dc0>, <google.cloud.bigquery.dataset.DatasetListItem object at 0x7fbd6ab66f70>, <google.cloud.bigquery.dataset.DatasetListItem object at 0x7fbd6ab66fd0>, <google.cloud.bigquery.dataset.DatasetListItem object at 0x7fbd6ab66e80>, <google.cloud.bigquery.dataset.DatasetListItem object at 0x7fbd6ab66e20>, <google.cloud.bigquery.dataset.DatasetListItem object at 0x7fbd6ab66d60>, <google.cloud.bigquery.dataset.DatasetListItem object at 0x7fbd6ab66eb0>, <google.cloud.bigquery.dataset.DatasetListItem object at 0x7fbd6ab638b0>, <google.cloud.bigquery.dataset.DatasetListItem object at 0x7fbd6ab63f40>, <google.cloud.bigquery.dataset.DatasetListItem object at 0x7fbd6ab65160>, <google.cloud.bigquery.dataset.DatasetListItem object at 0x7fbd6ab65190>, <google.cloud.bigquery.dataset.DatasetListItem object at 0x7fbd6ab65280>, <google.cloud.bigquery.dataset.DatasetListItem object at 0x7fbd6ab651f0>, <google.cloud.bigquery.dataset.DatasetListItem object at 0x7fbd6ab653a0>, <google.cloud.bigquery.dataset.DatasetListItem object at 0x7fbd6ab65130>]\n"
     ]
    }
   ],
   "source": [
    "datasets = list(client.list_datasets())\n",
    "print(datasets)"
   ]
  },
  {
   "cell_type": "markdown",
   "metadata": {
    "colab_type": "text",
    "id": "_UoYS4suLFZg"
   },
   "source": [
    "That wasn't helpful. We need to go deeper into the object structure to get at something meaningful. Actually, the `dataset_id` member contains the name attribute of a `dataset` object; write some code to print that name for each member of the list that was created above:"
   ]
  },
  {
   "cell_type": "code",
   "execution_count": 11,
   "metadata": {
    "colab": {},
    "colab_type": "code",
    "id": "MBV3-c21LFZi"
   },
   "outputs": [
    {
     "name": "stdout",
     "output_type": "stream",
     "text": [
      "austin_311\n",
      "austin_311\n",
      "austin_bikeshare\n",
      "austin_crime\n",
      "austin_incidents\n",
      "austin_waste\n",
      "baseball\n",
      "bitcoin_blockchain\n",
      "bls\n",
      "bls_qcew\n",
      "breathe\n",
      "broadstreet_adi\n",
      "catalonian_mobile_coverage\n",
      "catalonian_mobile_coverage_eu\n",
      "census_bureau_acs\n",
      "census_bureau_construction\n",
      "census_bureau_international\n",
      "census_bureau_usa\n",
      "census_utility\n",
      "cfpb_complaints\n",
      "chicago_crime\n",
      "chicago_taxi_trips\n",
      "cloud_storage_geo_index\n",
      "cms_codes\n",
      "cms_medicare\n",
      "cms_synthetic_patient_data_omop\n",
      "covid19_aha\n",
      "covid19_ecdc\n",
      "covid19_ecdc_eu\n",
      "covid19_geotab_mobility_impact\n",
      "covid19_geotab_mobility_impact_eu\n",
      "covid19_google_mobility\n",
      "covid19_google_mobility_eu\n",
      "covid19_govt_response\n",
      "covid19_italy\n",
      "covid19_italy_eu\n",
      "covid19_jhu_csse\n",
      "covid19_jhu_csse_eu\n",
      "covid19_nyt\n",
      "covid19_open_data\n",
      "covid19_open_data_eu\n",
      "covid19_public_forecasts\n",
      "covid19_public_forecasts_asia_ne1\n",
      "covid19_rxrx19\n",
      "covid19_symptom_search\n",
      "covid19_usafacts\n",
      "covid19_weathersource_com\n",
      "crypto_bitcoin\n",
      "crypto_bitcoin_cash\n",
      "crypto_dash\n",
      "crypto_dogecoin\n",
      "crypto_ethereum\n",
      "crypto_ethereum_classic\n",
      "crypto_litecoin\n",
      "crypto_zcash\n",
      "cymbal_investments\n",
      "eclipse_megamovie\n",
      "epa_historical_air_quality\n",
      "ethereum_blockchain\n",
      "faa\n",
      "fcc_political_ads\n",
      "fda_drug\n",
      "fda_food\n",
      "fdic_banks\n",
      "fec\n",
      "fhir_synthea\n",
      "genomics_cannabis\n",
      "genomics_rice\n",
      "geo_census_blockgroups\n",
      "geo_census_tracts\n",
      "geo_international_ports\n",
      "geo_openstreetmap\n",
      "geo_us_boundaries\n",
      "geo_us_census_places\n",
      "geo_us_roads\n",
      "geo_whos_on_first\n",
      "geolite2\n",
      "ghcn_d\n",
      "ghcn_m\n",
      "github_repos\n",
      "gnomAD\n",
      "gnomAD_asiane1\n",
      "gnomAD_eu\n",
      "google_ads\n",
      "google_analytics_sample\n",
      "google_political_ads\n",
      "hacker_news\n",
      "hud_zipcode_crosswalk\n",
      "human_genome_variants\n",
      "human_variant_annotation\n",
      "immune_epitope_db\n",
      "iowa_liquor_sales\n",
      "irs_990\n",
      "labeled_patents\n",
      "libraries_io\n",
      "london_bicycles\n",
      "london_crime\n",
      "london_fire_brigade\n",
      "medicare\n",
      "ml_datasets\n",
      "moon_phases\n",
      "nasa_wildfire\n",
      "ncaa_basketball\n",
      "new_york\n",
      "new_york_311\n",
      "new_york_citibike\n",
      "new_york_mv_collisions\n",
      "new_york_subway\n",
      "new_york_taxi_trips\n",
      "new_york_trees\n",
      "nhtsa_traffic_fatalities\n",
      "nlm_rxnorm\n",
      "noaa_goes16\n",
      "noaa_goes17\n",
      "noaa_gsod\n",
      "noaa_historic_severe_storms\n",
      "noaa_hurricanes\n",
      "noaa_icoads\n",
      "noaa_lightning\n",
      "noaa_passive_acoustic_index\n",
      "noaa_pifsc_metadata\n",
      "noaa_preliminary_severe_storms\n",
      "noaa_significant_earthquakes\n",
      "noaa_tsunami\n",
      "nppes\n",
      "open_images\n",
      "openaq\n",
      "persistent_udfs\n",
      "pypi\n",
      "safegraph\n",
      "samples\n",
      "san_francisco\n",
      "san_francisco_311\n",
      "san_francisco_bikeshare\n",
      "san_francisco_film_locations\n",
      "san_francisco_neighborhoods\n",
      "san_francisco_sffd_service_calls\n",
      "san_francisco_sfpd_incidents\n",
      "san_francisco_transit_muni\n",
      "san_francisco_trees\n",
      "sdoh_bea_cainc30\n",
      "sdoh_cdc_wonder_natality\n",
      "sdoh_cms_dual_eligible_enrollment\n",
      "sdoh_hrsa_shortage_areas\n",
      "sdoh_hud_housing\n",
      "sdoh_hud_pit_homelessness\n",
      "sdoh_snap_enrollment\n",
      "sec_quarterly_financials\n",
      "stackoverflow\n",
      "sunroof_solar\n",
      "the_met\n",
      "umiami_lincs\n",
      "un_sdg\n",
      "usa_names\n",
      "usda_nass_agriculture\n",
      "usfs_fia\n",
      "utility_eu\n",
      "utility_us\n",
      "wikipedia\n",
      "wise_all_sky_data_release\n",
      "words\n",
      "world_bank_global_population\n",
      "world_bank_health_population\n",
      "world_bank_intl_debt\n",
      "world_bank_intl_education\n",
      "world_bank_wdi\n",
      "worldpop\n"
     ]
    }
   ],
   "source": [
    "#?\n",
    "\n",
    "# test referencing\n",
    "\n",
    "print(datasets[0].dataset_id)\n",
    "\n",
    "for i in datasets:\n",
    "    print(i.dataset_id)"
   ]
  },
  {
   "cell_type": "markdown",
   "metadata": {
    "colab_type": "text",
    "id": "1VKuobUSLFZk"
   },
   "source": [
    "The google API objects in the `bigquery` library have their own overloads of the format() function that make them easier to read. Below is a function that exploits the `format` method of `project` and `dataset_id`, providing an easy way to list datasets:"
   ]
  },
  {
   "cell_type": "code",
   "execution_count": 12,
   "metadata": {
    "colab": {},
    "colab_type": "code",
    "id": "obqd0X0vLFZl"
   },
   "outputs": [],
   "source": [
    "# function for listing datasets in a project:\n",
    "def printDatasetList(client):\n",
    "    project = client.project    #: only one project can be associated with a client instance\n",
    "    datasets = list(client.list_datasets())\n",
    "    if datasets:\n",
    "        print('Datasets in project {}:'.format(project))\n",
    "        for dataset in datasets:  \n",
    "            print('\\t{}'.format(dataset.dataset_id))\n",
    "        found = True\n",
    "    else:\n",
    "        print('{} project does not contain any datasets.'.format(project))\n",
    "        found = False\n",
    "    return found"
   ]
  },
  {
   "cell_type": "code",
   "execution_count": 13,
   "metadata": {
    "colab": {},
    "colab_type": "code",
    "id": "TcS8DXenLFZn"
   },
   "outputs": [
    {
     "name": "stdout",
     "output_type": "stream",
     "text": [
      "Datasets in project bigquery-public-data:\n",
      "\taustin_311\n",
      "\taustin_bikeshare\n",
      "\taustin_crime\n",
      "\taustin_incidents\n",
      "\taustin_waste\n",
      "\tbaseball\n",
      "\tbitcoin_blockchain\n",
      "\tbls\n",
      "\tbls_qcew\n",
      "\tbreathe\n",
      "\tbroadstreet_adi\n",
      "\tcatalonian_mobile_coverage\n",
      "\tcatalonian_mobile_coverage_eu\n",
      "\tcensus_bureau_acs\n",
      "\tcensus_bureau_construction\n",
      "\tcensus_bureau_international\n",
      "\tcensus_bureau_usa\n",
      "\tcensus_utility\n",
      "\tcfpb_complaints\n",
      "\tchicago_crime\n",
      "\tchicago_taxi_trips\n",
      "\tcloud_storage_geo_index\n",
      "\tcms_codes\n",
      "\tcms_medicare\n",
      "\tcms_synthetic_patient_data_omop\n",
      "\tcovid19_aha\n",
      "\tcovid19_ecdc\n",
      "\tcovid19_ecdc_eu\n",
      "\tcovid19_geotab_mobility_impact\n",
      "\tcovid19_geotab_mobility_impact_eu\n",
      "\tcovid19_google_mobility\n",
      "\tcovid19_google_mobility_eu\n",
      "\tcovid19_govt_response\n",
      "\tcovid19_italy\n",
      "\tcovid19_italy_eu\n",
      "\tcovid19_jhu_csse\n",
      "\tcovid19_jhu_csse_eu\n",
      "\tcovid19_nyt\n",
      "\tcovid19_open_data\n",
      "\tcovid19_open_data_eu\n",
      "\tcovid19_public_forecasts\n",
      "\tcovid19_public_forecasts_asia_ne1\n",
      "\tcovid19_rxrx19\n",
      "\tcovid19_symptom_search\n",
      "\tcovid19_usafacts\n",
      "\tcovid19_weathersource_com\n",
      "\tcrypto_bitcoin\n",
      "\tcrypto_bitcoin_cash\n",
      "\tcrypto_dash\n",
      "\tcrypto_dogecoin\n",
      "\tcrypto_ethereum\n",
      "\tcrypto_ethereum_classic\n",
      "\tcrypto_litecoin\n",
      "\tcrypto_zcash\n",
      "\tcymbal_investments\n",
      "\teclipse_megamovie\n",
      "\tepa_historical_air_quality\n",
      "\tethereum_blockchain\n",
      "\tfaa\n",
      "\tfcc_political_ads\n",
      "\tfda_drug\n",
      "\tfda_food\n",
      "\tfdic_banks\n",
      "\tfec\n",
      "\tfhir_synthea\n",
      "\tgenomics_cannabis\n",
      "\tgenomics_rice\n",
      "\tgeo_census_blockgroups\n",
      "\tgeo_census_tracts\n",
      "\tgeo_international_ports\n",
      "\tgeo_openstreetmap\n",
      "\tgeo_us_boundaries\n",
      "\tgeo_us_census_places\n",
      "\tgeo_us_roads\n",
      "\tgeo_whos_on_first\n",
      "\tgeolite2\n",
      "\tghcn_d\n",
      "\tghcn_m\n",
      "\tgithub_repos\n",
      "\tgnomAD\n",
      "\tgnomAD_asiane1\n",
      "\tgnomAD_eu\n",
      "\tgoogle_ads\n",
      "\tgoogle_analytics_sample\n",
      "\tgoogle_political_ads\n",
      "\thacker_news\n",
      "\thud_zipcode_crosswalk\n",
      "\thuman_genome_variants\n",
      "\thuman_variant_annotation\n",
      "\timmune_epitope_db\n",
      "\tiowa_liquor_sales\n",
      "\tirs_990\n",
      "\tlabeled_patents\n",
      "\tlibraries_io\n",
      "\tlondon_bicycles\n",
      "\tlondon_crime\n",
      "\tlondon_fire_brigade\n",
      "\tmedicare\n",
      "\tml_datasets\n",
      "\tmoon_phases\n",
      "\tnasa_wildfire\n",
      "\tncaa_basketball\n",
      "\tnew_york\n",
      "\tnew_york_311\n",
      "\tnew_york_citibike\n",
      "\tnew_york_mv_collisions\n",
      "\tnew_york_subway\n",
      "\tnew_york_taxi_trips\n",
      "\tnew_york_trees\n",
      "\tnhtsa_traffic_fatalities\n",
      "\tnlm_rxnorm\n",
      "\tnoaa_goes16\n",
      "\tnoaa_goes17\n",
      "\tnoaa_gsod\n",
      "\tnoaa_historic_severe_storms\n",
      "\tnoaa_hurricanes\n",
      "\tnoaa_icoads\n",
      "\tnoaa_lightning\n",
      "\tnoaa_passive_acoustic_index\n",
      "\tnoaa_pifsc_metadata\n",
      "\tnoaa_preliminary_severe_storms\n",
      "\tnoaa_significant_earthquakes\n",
      "\tnoaa_tsunami\n",
      "\tnppes\n",
      "\topen_images\n",
      "\topenaq\n",
      "\tpersistent_udfs\n",
      "\tpypi\n",
      "\tsafegraph\n",
      "\tsamples\n",
      "\tsan_francisco\n",
      "\tsan_francisco_311\n",
      "\tsan_francisco_bikeshare\n",
      "\tsan_francisco_film_locations\n",
      "\tsan_francisco_neighborhoods\n",
      "\tsan_francisco_sffd_service_calls\n",
      "\tsan_francisco_sfpd_incidents\n",
      "\tsan_francisco_transit_muni\n",
      "\tsan_francisco_trees\n",
      "\tsdoh_bea_cainc30\n",
      "\tsdoh_cdc_wonder_natality\n",
      "\tsdoh_cms_dual_eligible_enrollment\n",
      "\tsdoh_hrsa_shortage_areas\n",
      "\tsdoh_hud_housing\n",
      "\tsdoh_hud_pit_homelessness\n",
      "\tsdoh_snap_enrollment\n",
      "\tsec_quarterly_financials\n",
      "\tstackoverflow\n",
      "\tsunroof_solar\n",
      "\tthe_met\n",
      "\tumiami_lincs\n",
      "\tun_sdg\n",
      "\tusa_names\n",
      "\tusda_nass_agriculture\n",
      "\tusfs_fia\n",
      "\tutility_eu\n",
      "\tutility_us\n",
      "\twikipedia\n",
      "\twise_all_sky_data_release\n",
      "\twords\n",
      "\tworld_bank_global_population\n",
      "\tworld_bank_health_population\n",
      "\tworld_bank_intl_debt\n",
      "\tworld_bank_intl_education\n",
      "\tworld_bank_wdi\n",
      "\tworldpop\n"
     ]
    }
   ],
   "source": [
    "# list datasets in the default project:\n",
    "flag = printDatasetList(client)  #: assigning to `flag` suppresses printing the return value (normally `True`)"
   ]
  },
  {
   "cell_type": "markdown",
   "metadata": {
    "colab_type": "text",
    "id": "81uawTW5LFZo"
   },
   "source": [
    "This list should correspond to what is shown here https://bigquery.cloud.google.com/publicdatasets under the **bigquery-public-data** item."
   ]
  },
  {
   "cell_type": "markdown",
   "metadata": {
    "colab_type": "text",
    "id": "bEAfjVxOLFZo"
   },
   "source": [
    "Here is how to create a dataset reference object by assigning a project and a dataset name:"
   ]
  },
  {
   "cell_type": "code",
   "execution_count": 14,
   "metadata": {
    "colab": {},
    "colab_type": "code",
    "id": "ZrSaLIkWLFZo"
   },
   "outputs": [],
   "source": [
    "dataset_id = 'samples'\n",
    "dataset_ref = client.dataset(dataset_id)"
   ]
  },
  {
   "cell_type": "markdown",
   "metadata": {
    "colab_type": "text",
    "id": "5BlLbSA7LFZp"
   },
   "source": [
    "If our current project was something other than `bigquery-public-data`, we could still create this reference by specifying the project that contains the dataset:"
   ]
  },
  {
   "cell_type": "code",
   "execution_count": 15,
   "metadata": {
    "colab": {},
    "colab_type": "code",
    "id": "NJK5yM9BLFZq"
   },
   "outputs": [],
   "source": [
    "dataset_id = 'samples'\n",
    "dataset_ref = client.dataset(dataset_id, project = 'bigquery-public-data')"
   ]
  },
  {
   "cell_type": "markdown",
   "metadata": {
    "colab_type": "text",
    "id": "6_fYqMyGLFZr"
   },
   "source": [
    "How can we get the path of the dataset?"
   ]
  },
  {
   "cell_type": "code",
   "execution_count": 16,
   "metadata": {
    "colab": {},
    "colab_type": "code",
    "id": "otqzZohpLFZs"
   },
   "outputs": [
    {
     "data": {
      "text/plain": [
       "'/projects/bigquery-public-data/datasets/samples'"
      ]
     },
     "execution_count": 16,
     "metadata": {},
     "output_type": "execute_result"
    }
   ],
   "source": [
    "#?\n",
    "dataset_ref.path"
   ]
  },
  {
   "cell_type": "markdown",
   "metadata": {
    "colab_type": "text",
    "id": "dRzK-hTuLFZt"
   },
   "source": [
    "Explore more of this object's members:\n",
    "\n",
    "*(HINT: Jupyter Notebooks does not support code completion, but Spyder and other Python IDEs do. If you copy all the above code to a Python file within the IDE, you can type `dataset_ref.` in a new line, then hit the [Tab] key to see the available members for the object.)*"
   ]
  },
  {
   "cell_type": "code",
   "execution_count": 17,
   "metadata": {
    "colab": {},
    "colab_type": "code",
    "id": "s9HM7PiMLFZt"
   },
   "outputs": [
    {
     "data": {
      "text/plain": [
       "<bound method _get_table_reference of DatasetReference('bigquery-public-data', 'samples')>"
      ]
     },
     "execution_count": 17,
     "metadata": {},
     "output_type": "execute_result"
    }
   ],
   "source": [
    "#?\n",
    "dataset_ref.table"
   ]
  },
  {
   "cell_type": "markdown",
   "metadata": {
    "colab_type": "text",
    "id": "NZB6yeerLFZu"
   },
   "source": [
    "Here is a function for listing the tables in a dataset: "
   ]
  },
  {
   "cell_type": "code",
   "execution_count": 18,
   "metadata": {
    "colab": {},
    "colab_type": "code",
    "id": "_E5S-MhtLFZu"
   },
   "outputs": [],
   "source": [
    "# function for listing tables in a dataset:\n",
    "def printTableList(client, dataset_id):\n",
    "    project = client.project\n",
    "    dataset_ref = client.dataset(dataset_id, project = project)    \n",
    "    tables = list(client.list_tables(dataset_ref))\n",
    "    if tables:\n",
    "        print('Tables in dataset {}:'.format(dataset_id))\n",
    "        for table in tables: \n",
    "            print('\\t{}'.format(table.table_id))\n",
    "        found = True\n",
    "    else:\n",
    "        print('{} dataset does not contain any tables.'.format(dataset_id))\n",
    "        found = False\n",
    "    return found"
   ]
  },
  {
   "cell_type": "markdown",
   "metadata": {
    "colab_type": "text",
    "id": "ksp2VbNcLFZv"
   },
   "source": [
    "Use this function to list the tables in the current dataset:"
   ]
  },
  {
   "cell_type": "code",
   "execution_count": 19,
   "metadata": {
    "colab": {},
    "colab_type": "code",
    "id": "F2KEisFzLFZv"
   },
   "outputs": [
    {
     "name": "stdout",
     "output_type": "stream",
     "text": [
      "Tables in dataset samples:\n",
      "\tgithub_nested\n",
      "\tgithub_timeline\n",
      "\tgsod\n",
      "\tnatality\n",
      "\tshakespeare\n",
      "\ttrigrams\n",
      "\twikipedia\n"
     ]
    }
   ],
   "source": [
    "#?\n",
    "samples = printTableList(client, dataset_id)"
   ]
  },
  {
   "cell_type": "code",
   "execution_count": 20,
   "metadata": {},
   "outputs": [
    {
     "data": {
      "text/plain": [
       "'bigquery-public-data'"
      ]
     },
     "execution_count": 20,
     "metadata": {},
     "output_type": "execute_result"
    }
   ],
   "source": [
    "dataset_ref.project"
   ]
  },
  {
   "cell_type": "markdown",
   "metadata": {
    "colab_type": "text",
    "id": "XoZPwFx1LFZx"
   },
   "source": [
    "To create a reference to a table within the dataset, we use the `table_id` attribute:"
   ]
  },
  {
   "cell_type": "code",
   "execution_count": 21,
   "metadata": {
    "colab": {},
    "colab_type": "code",
    "id": "rYXUHik0LFZx"
   },
   "outputs": [],
   "source": [
    "table_id = 'shakespeare'\n",
    "table_ref = dataset_ref.table(table_id)"
   ]
  },
  {
   "cell_type": "markdown",
   "metadata": {
    "colab_type": "text",
    "id": "3MZOaAuiLFZy"
   },
   "source": [
    "Check the name of the table that `table_ref` now points to:"
   ]
  },
  {
   "cell_type": "code",
   "execution_count": 22,
   "metadata": {
    "colab": {},
    "colab_type": "code",
    "id": "6B9AAg4tLFZz"
   },
   "outputs": [
    {
     "data": {
      "text/plain": [
       "'bigquery-public-data'"
      ]
     },
     "execution_count": 22,
     "metadata": {},
     "output_type": "execute_result"
    }
   ],
   "source": [
    "#?\n",
    "table_ref.project"
   ]
  },
  {
   "cell_type": "markdown",
   "metadata": {
    "colab_type": "text",
    "id": "gOo7O5lVLFZ0"
   },
   "source": [
    "To access the data in the table itself, we use the `get_table()` method:"
   ]
  },
  {
   "cell_type": "code",
   "execution_count": 23,
   "metadata": {
    "colab": {},
    "colab_type": "code",
    "id": "rjnXTIoULFZ0"
   },
   "outputs": [],
   "source": [
    "table = client.get_table(table_ref)  # API Request"
   ]
  },
  {
   "cell_type": "markdown",
   "metadata": {
    "colab_type": "text",
    "id": "Ggy5pIrYLFZ2"
   },
   "source": [
    "NOTE: The contents of the table are not actually in our memory after this call! We are working with a Big Data platform, now, and we could easily end up pulling GBs or TBs of data by accident. \n",
    "\n",
    "To minimise data bandwidth, memory consumption, and processing time, Big Data platforms employ ***lazy evaluation***. This means that no computation or data transfer actually takes place until we *realise* (use) the data. Even if we execute subsequent code that performs calculations on the data, no data flow or computation actually occurs until we request output (e.g. by executing a print to stdout or writing to a file). "
   ]
  },
  {
   "cell_type": "markdown",
   "metadata": {
    "colab_type": "text",
    "id": "5Sa9uV6tLFZ2"
   },
   "source": [
    "What kind of object is returned by `client.get_table`?"
   ]
  },
  {
   "cell_type": "code",
   "execution_count": 24,
   "metadata": {
    "colab": {},
    "colab_type": "code",
    "id": "cdmNEp6ZLFZ3"
   },
   "outputs": [
    {
     "data": {
      "text/plain": [
       "<bound method Client.get_table of <google.cloud.bigquery.client.Client object at 0x7fbd698cc6a0>>"
      ]
     },
     "execution_count": 24,
     "metadata": {},
     "output_type": "execute_result"
    }
   ],
   "source": [
    "#?\n",
    "client.get_table"
   ]
  },
  {
   "cell_type": "markdown",
   "metadata": {
    "colab_type": "text",
    "id": "rcaJMPCNLFZ4"
   },
   "source": [
    "How can we view the design of the table (cOlumn names and types? The name of the boject attribute we need is the same term we learned in the module on databases:"
   ]
  },
  {
   "cell_type": "code",
   "execution_count": 25,
   "metadata": {
    "colab": {},
    "colab_type": "code",
    "id": "gt4FQZ88LFZ4"
   },
   "outputs": [
    {
     "data": {
      "text/plain": [
       "[SchemaField('word', 'STRING', 'REQUIRED', 'A single unique word (where whitespace is the delimiter) extracted from a corpus.', (), None),\n",
       " SchemaField('word_count', 'INTEGER', 'REQUIRED', 'The number of times this word appears in this corpus.', (), None),\n",
       " SchemaField('corpus', 'STRING', 'REQUIRED', 'The work from which this word was extracted.', (), None),\n",
       " SchemaField('corpus_date', 'INTEGER', 'REQUIRED', 'The year in which this corpus was published.', (), None)]"
      ]
     },
     "execution_count": 25,
     "metadata": {},
     "output_type": "execute_result"
    }
   ],
   "source": [
    "#?\n",
    "table.schema"
   ]
  },
  {
   "cell_type": "code",
   "execution_count": 26,
   "metadata": {},
   "outputs": [],
   "source": [
    "table.view_query"
   ]
  },
  {
   "cell_type": "markdown",
   "metadata": {
    "colab_type": "text",
    "id": "FfaKrQRSLFZ6"
   },
   "source": [
    "Again, this is messy. If we wanted to refer to the column names and types in code, we might use something like this (which we could then parse into a dict):"
   ]
  },
  {
   "cell_type": "code",
   "execution_count": 27,
   "metadata": {
    "colab": {},
    "colab_type": "code",
    "id": "8187Fu57LFZ6"
   },
   "outputs": [
    {
     "name": "stdout",
     "output_type": "stream",
     "text": [
      "['word STRING', 'word_count INTEGER', 'corpus STRING', 'corpus_date INTEGER']\n"
     ]
    }
   ],
   "source": [
    "result = [\"{0} {1}\".format(schema.name,schema.field_type) for schema in table.schema]\n",
    "print(result)"
   ]
  },
  {
   "cell_type": "markdown",
   "metadata": {
    "colab_type": "text",
    "id": "ZQz7xhfwLFZ7"
   },
   "source": [
    "But if we just want to print them, here is another neat function for that:"
   ]
  },
  {
   "cell_type": "code",
   "execution_count": 28,
   "metadata": {
    "colab": {},
    "colab_type": "code",
    "id": "_LqvAXo3LFZ7"
   },
   "outputs": [],
   "source": [
    "# function to print a table schema:\n",
    "def printTableSchema(aTable):\n",
    "    schemas = list(aTable.schema)\n",
    "    if schemas:\n",
    "        print('Table schema for {}:'.format(aTable.table_id))\n",
    "        for aSchema in schemas:\n",
    "            print('\\t{0} {1}'.format(aSchema.name, aSchema.field_type))\n",
    "        found = True\n",
    "    else:\n",
    "        found = False\n",
    "    return found"
   ]
  },
  {
   "cell_type": "markdown",
   "metadata": {
    "colab_type": "text",
    "id": "SROTDIm8LFZ8"
   },
   "source": [
    "Use this function to print the table schema:"
   ]
  },
  {
   "cell_type": "code",
   "execution_count": 29,
   "metadata": {
    "colab": {},
    "colab_type": "code",
    "id": "DpmWRmXmLFZ9"
   },
   "outputs": [
    {
     "name": "stdout",
     "output_type": "stream",
     "text": [
      "Table schema for shakespeare:\n",
      "\tword STRING\n",
      "\tword_count INTEGER\n",
      "\tcorpus STRING\n",
      "\tcorpus_date INTEGER\n"
     ]
    },
    {
     "data": {
      "text/plain": [
       "True"
      ]
     },
     "execution_count": 29,
     "metadata": {},
     "output_type": "execute_result"
    }
   ],
   "source": [
    "#?\n",
    "printTableSchema(table)"
   ]
  },
  {
   "cell_type": "markdown",
   "metadata": {
    "colab_type": "text",
    "id": "Q1YugUUhLFZ-"
   },
   "source": [
    "Now that we know what the columns are, we can write queries. Actually, we construct a query job by assigning an SQL statement to a method of the `client` object:"
   ]
  },
  {
   "cell_type": "code",
   "execution_count": 30,
   "metadata": {
    "colab": {},
    "colab_type": "code",
    "id": "Gq7cGALfLFZ-"
   },
   "outputs": [],
   "source": [
    "sql = \"SELECT COUNT(1) FROM `bigquery-public-data.samples.shakespeare`\"\n",
    "# query_job = client.query(sql)"
   ]
  },
  {
   "cell_type": "markdown",
   "metadata": {
    "colab_type": "text",
    "id": "DJVssU3mLFZ_"
   },
   "source": [
    "Why does this throw an error?"
   ]
  },
  {
   "cell_type": "markdown",
   "metadata": {
    "colab_type": "text",
    "id": "4feq3JaqLFZ_"
   },
   "source": [
    "ANSWER: \n",
    "You are querying the entire datasets in project bigquery-public-data instead of the respective dataset\n",
    "_____________________________________________________\n",
    "\n",
    "So, what can we do?"
   ]
  },
  {
   "cell_type": "code",
   "execution_count": 31,
   "metadata": {
    "colab": {},
    "colab_type": "code",
    "id": "hCVH3AxrLFaA"
   },
   "outputs": [],
   "source": [
    "#?\n",
    "client = bigquery.Client.from_service_account_json(key_path, project = 'glowing-bird-305005')\n",
    "query_job = client.query(sql)"
   ]
  },
  {
   "cell_type": "markdown",
   "metadata": {
    "colab_type": "text",
    "id": "TTfuF8J0LFaA"
   },
   "source": [
    "If that worked, show what query_job is:"
   ]
  },
  {
   "cell_type": "code",
   "execution_count": 32,
   "metadata": {
    "colab": {},
    "colab_type": "code",
    "id": "ZmiGhS0ALFaA"
   },
   "outputs": [
    {
     "name": "stdout",
     "output_type": "stream",
     "text": [
      "<google.cloud.bigquery.job.query.QueryJob object at 0x7fbd480989d0>\n"
     ]
    }
   ],
   "source": [
    "#?\n",
    "print(query_job)"
   ]
  },
  {
   "cell_type": "markdown",
   "metadata": {
    "colab_type": "text",
    "id": "Src6_5auLFaB"
   },
   "source": [
    "Once again, due to lazy execution, no actual execution occurs until we request output:"
   ]
  },
  {
   "cell_type": "code",
   "execution_count": 33,
   "metadata": {
    "colab": {},
    "colab_type": "code",
    "id": "FCz4Yw9jLFaB"
   },
   "outputs": [
    {
     "name": "stdout",
     "output_type": "stream",
     "text": [
      "Row((164656,), {'f0_': 0})\n"
     ]
    }
   ],
   "source": [
    "for row in query_job:  # API request - fetches results\n",
    "    print(row)"
   ]
  },
  {
   "cell_type": "markdown",
   "metadata": {
    "colab_type": "text",
    "id": "CQG3a1oALFaC"
   },
   "source": [
    "And, again, we need to manipulate this to make it neat. Each member of the rowset is a list and we only want to extract the value, which is in the first member:"
   ]
  },
  {
   "cell_type": "code",
   "execution_count": 34,
   "metadata": {
    "colab": {},
    "colab_type": "code",
    "id": "Qcq2F5vzLFaC"
   },
   "outputs": [
    {
     "name": "stdout",
     "output_type": "stream",
     "text": [
      "164656\n"
     ]
    }
   ],
   "source": [
    "print(row[0])"
   ]
  },
  {
   "cell_type": "markdown",
   "metadata": {
    "colab_type": "text",
    "id": "cPqWb1_YLFaD"
   },
   "source": [
    "So, we now know that this table has 164,656 rows. (We would not want to print it!)"
   ]
  },
  {
   "cell_type": "markdown",
   "metadata": {
    "colab_type": "text",
    "id": "6idZY0-3LFaD"
   },
   "source": [
    "A better coding practice is to write SQL statements that assign names (aliases) to derived values, so we don't forget what the resulting rowset contains. Rewite the above SQL statement so that the value returned is aliased a \"num_rows\", and assign the QueryJob as above:"
   ]
  },
  {
   "cell_type": "code",
   "execution_count": 35,
   "metadata": {
    "colab": {},
    "colab_type": "code",
    "id": "NeHVJAm5LFaD"
   },
   "outputs": [],
   "source": [
    "#?\n",
    "sql = \"SELECT COUNT(1) AS num_rows FROM `bigquery-public-data.samples.shakespeare`\"\n",
    "query_job = client.query(sql)"
   ]
  },
  {
   "cell_type": "markdown",
   "metadata": {
    "colab_type": "text",
    "id": "XUFlZ66lLFaE"
   },
   "source": [
    "Now we could use Python's `assert` statement to build a test into the first code block that operates on the rowset:"
   ]
  },
  {
   "cell_type": "code",
   "execution_count": 36,
   "metadata": {
    "colab": {},
    "colab_type": "code",
    "id": "6MHaNZh0LFaE"
   },
   "outputs": [
    {
     "name": "stdout",
     "output_type": "stream",
     "text": [
      "164656\n"
     ]
    }
   ],
   "source": [
    "for row in query_job:  # API request - fetches results\n",
    "    # Row values can be accessed by field name or index:\n",
    "    assert row[0] == row.num_rows == row['num_rows']  #: for debugging bad sql\n",
    "    print(row.num_rows)"
   ]
  },
  {
   "cell_type": "markdown",
   "metadata": {
    "colab_type": "text",
    "id": "fP4GpU02LFaF"
   },
   "source": [
    "The above code checks that the name attribute of the value in `row[0]` is what we expected (i.e. \"num_rows\"). Also, it shows that we can refer to a field in a row by its object member `num_rows` or by using the same notation we use for Python dictionaries, `['num_rows']`. "
   ]
  },
  {
   "cell_type": "markdown",
   "metadata": {
    "colab_type": "text",
    "id": "y83gunLZLFaF"
   },
   "source": [
    "Write, execute, and print the results of a query that fetches 10 rows from the table, each containing the \"word\", \"word_count\", and \"corpus\" fields: "
   ]
  },
  {
   "cell_type": "code",
   "execution_count": 47,
   "metadata": {
    "colab": {},
    "colab_type": "code",
    "id": "xhvBwHzpLFaG"
   },
   "outputs": [
    {
     "name": "stdout",
     "output_type": "stream",
     "text": [
      "Row(('LVII', 1, 'sonnets'), {'word': 0, 'word_count': 1, 'corpus': 2})\n",
      "Row(('augurs', 1, 'sonnets'), {'word': 0, 'word_count': 1, 'corpus': 2})\n",
      "Row((\"dimm'd\", 1, 'sonnets'), {'word': 0, 'word_count': 1, 'corpus': 2})\n",
      "Row(('plagues', 1, 'sonnets'), {'word': 0, 'word_count': 1, 'corpus': 2})\n",
      "Row(('treason', 1, 'sonnets'), {'word': 0, 'word_count': 1, 'corpus': 2})\n",
      "Row(('surmise', 1, 'sonnets'), {'word': 0, 'word_count': 1, 'corpus': 2})\n",
      "Row(('heed', 1, 'sonnets'), {'word': 0, 'word_count': 1, 'corpus': 2})\n",
      "Row(('Unthrifty', 1, 'sonnets'), {'word': 0, 'word_count': 1, 'corpus': 2})\n",
      "Row(('quality', 1, 'sonnets'), {'word': 0, 'word_count': 1, 'corpus': 2})\n",
      "Row(('wherever', 1, 'sonnets'), {'word': 0, 'word_count': 1, 'corpus': 2})\n",
      "Row(('C', 1, 'sonnets'), {'word': 0, 'word_count': 1, 'corpus': 2})\n",
      "Row(('L', 1, 'sonnets'), {'word': 0, 'word_count': 1, 'corpus': 2})\n",
      "Row(('imaginary', 1, 'sonnets'), {'word': 0, 'word_count': 1, 'corpus': 2})\n",
      "Row(('H', 1, 'sonnets'), {'word': 0, 'word_count': 1, 'corpus': 2})\n",
      "Row(('relief', 1, 'sonnets'), {'word': 0, 'word_count': 1, 'corpus': 2})\n",
      "Row(('W', 1, 'sonnets'), {'word': 0, 'word_count': 1, 'corpus': 2})\n",
      "Row(('V', 1, 'sonnets'), {'word': 0, 'word_count': 1, 'corpus': 2})\n",
      "Row(('advised', 1, 'sonnets'), {'word': 0, 'word_count': 1, 'corpus': 2})\n",
      "Row(('grey', 1, 'sonnets'), {'word': 0, 'word_count': 1, 'corpus': 2})\n",
      "Row(('X', 1, 'sonnets'), {'word': 0, 'word_count': 1, 'corpus': 2})\n"
     ]
    }
   ],
   "source": [
    "#?\n",
    "sql = \"\"\"\n",
    "      SELECT word,word_count,corpus\n",
    "      FROM `bigquery-public-data.samples.shakespeare`\n",
    "      LIMIT 20\n",
    "      \"\"\"\n",
    "query_job = client.query(sql)\n",
    "\n",
    "for row in query_job:\n",
    "    print(row)"
   ]
  },
  {
   "cell_type": "markdown",
   "metadata": {
    "colab_type": "text",
    "id": "OlGpm9dmLFaH"
   },
   "source": [
    "(NOTE: Using `assert` religiously is good practice and will make debugging easier, but is probably overkill for non-production code.)"
   ]
  },
  {
   "cell_type": "markdown",
   "metadata": {
    "colab_type": "text",
    "id": "md6tWVvHLFaH"
   },
   "source": [
    "Whenever you catch yourself writing a swag of code to do something that seems rudimentary or low-level, there is a very good chance that you don't need to. A much easier way to handle the above requirement is to use the `to_dataframe` method of the QueryJob object:"
   ]
  },
  {
   "cell_type": "code",
   "execution_count": 48,
   "metadata": {
    "colab": {},
    "colab_type": "code",
    "id": "19bjagBHLFaH"
   },
   "outputs": [
    {
     "name": "stdout",
     "output_type": "stream",
     "text": [
      "         word  word_count   corpus\n",
      "0        LVII           1  sonnets\n",
      "1      augurs           1  sonnets\n",
      "2      dimm'd           1  sonnets\n",
      "3     plagues           1  sonnets\n",
      "4     treason           1  sonnets\n",
      "5     surmise           1  sonnets\n",
      "6        heed           1  sonnets\n",
      "7   Unthrifty           1  sonnets\n",
      "8     quality           1  sonnets\n",
      "9    wherever           1  sonnets\n",
      "10          C           1  sonnets\n",
      "11          L           1  sonnets\n",
      "12  imaginary           1  sonnets\n",
      "13          H           1  sonnets\n",
      "14     relief           1  sonnets\n",
      "15          W           1  sonnets\n",
      "16          V           1  sonnets\n",
      "17    advised           1  sonnets\n",
      "18       grey           1  sonnets\n",
      "19          X           1  sonnets\n"
     ]
    }
   ],
   "source": [
    "df = query_job.to_dataframe()\n",
    "print(df)    "
   ]
  },
  {
   "cell_type": "markdown",
   "metadata": {
    "colab_type": "text",
    "id": "Qc7vdIfALFaJ"
   },
   "source": [
    "Although the above doesn't use `assert` (which you might still want to include in some test code), you will be able to tell at a glance if something is wrong with the contents of the DataFrame."
   ]
  },
  {
   "cell_type": "markdown",
   "metadata": {
    "colab_type": "text",
    "id": "DsWSuO95LFaJ"
   },
   "source": [
    "#### Final Notes"
   ]
  },
  {
   "cell_type": "markdown",
   "metadata": {
    "colab_type": "text",
    "id": "4mKynMuNLFaJ"
   },
   "source": [
    "1. Here is a readable way to code long SQL statements:"
   ]
  },
  {
   "cell_type": "code",
   "execution_count": 40,
   "metadata": {
    "colab": {},
    "colab_type": "code",
    "id": "8nm7i1-rLFaJ"
   },
   "outputs": [],
   "source": [
    "sql = \"\"\"\n",
    "    SELECT word, word_count, corpus \n",
    "    FROM `bigquery-public-data.samples.shakespeare` \n",
    "    LIMIT 10\n",
    "    \"\"\""
   ]
  },
  {
   "cell_type": "markdown",
   "metadata": {
    "colab_type": "text",
    "id": "1j2w1aovLFaK"
   },
   "source": [
    "2. If you had an application that needed to modify the tables or datasets in the `bigquery-public-data` is project, you could copy them to our own project, where you would have the permissions to do as you please with the data (subject to Google's terms of use)."
   ]
  },
  {
   "cell_type": "markdown",
   "metadata": {
    "colab_type": "text",
    "id": "mOAZyGTcLFaL"
   },
   "source": [
    "3. We aren't limited to the datasets that are already in BigQuery. We can upload tables from our computer, and we can pull data in from other online souces. We will cover these tasks in another module."
   ]
  },
  {
   "cell_type": "markdown",
   "metadata": {
    "colab_type": "text",
    "id": "PJmK2n7vLFaL"
   },
   "source": [
    "#### Next Steps\n",
    "\n",
    "If you wish to pick up a few more skills you can go to https://cloud.google.com/bigquery/create-simple-app-api. (Note that we have already been through the preliminaries, so you can start at \"Download the sample code\".)\n",
    "\n",
    "Alternatively, you can take a deeper dive into the API here: https://googlecloudplatform.github.io/google-cloud-python/latest/bigquery/usage.html."
   ]
  },
  {
   "cell_type": "markdown",
   "metadata": {
    "colab_type": "text",
    "id": "OFNsekmxLFaM"
   },
   "source": [
    "## - END -"
   ]
  },
  {
   "cell_type": "markdown",
   "metadata": {
    "colab_type": "text",
    "id": "KBAJLLeXLHs8"
   },
   "source": [
    ">\n",
    ">\n"
   ]
  },
  {
   "cell_type": "markdown",
   "metadata": {
    "colab_type": "text",
    "id": "V1AVU7q-LIuO"
   },
   "source": [
    ">\n",
    ">\n"
   ]
  },
  {
   "cell_type": "markdown",
   "metadata": {
    "colab_type": "text",
    "id": "Fpehj_5ELJk9"
   },
   "source": [
    "\n",
    "\n",
    "---\n",
    "\n",
    "\n",
    "\n",
    "---\n",
    "\n",
    "\n",
    "\n",
    "> > > > > > > > > © 2021 Institute of Data\n",
    "\n",
    "\n",
    "---\n",
    "\n",
    "\n",
    "\n",
    "---\n",
    "\n",
    "\n",
    "\n"
   ]
  }
 ],
 "metadata": {
  "colab": {
   "collapsed_sections": [
    "DsWSuO95LFaJ",
    "PJmK2n7vLFaL"
   ],
   "name": "DSIA Lab 2.2.4 .ipynb",
   "provenance": []
  },
  "kernelspec": {
   "display_name": "Python 3",
   "language": "python",
   "name": "python3"
  },
  "language_info": {
   "codemirror_mode": {
    "name": "ipython",
    "version": 3
   },
   "file_extension": ".py",
   "mimetype": "text/x-python",
   "name": "python",
   "nbconvert_exporter": "python",
   "pygments_lexer": "ipython3",
   "version": "3.8.3"
  }
 },
 "nbformat": 4,
 "nbformat_minor": 1
}
