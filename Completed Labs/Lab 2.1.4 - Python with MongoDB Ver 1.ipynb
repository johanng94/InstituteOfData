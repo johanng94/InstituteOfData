{
 "cells": [
  {
   "cell_type": "markdown",
   "metadata": {
    "colab_type": "text",
    "id": "s8RoBuCkB_bW"
   },
   "source": [
    "<div>\n",
    "<img src=https://www.institutedata.com/wp-content/uploads/2019/10/iod_h_tp_primary_c.svg width=\"300\">\n",
    "</div>"
   ]
  },
  {
   "cell_type": "markdown",
   "metadata": {
    "colab_type": "text",
    "id": "cW5QEs4PB_bY"
   },
   "source": [
    "# Lab 2.1.4 \n",
    "# *Python with MongoDB*"
   ]
  },
  {
   "cell_type": "markdown",
   "metadata": {
    "colab_type": "text",
    "id": "VjUpP-kFB_bb"
   },
   "source": [
    "## Introduction to PyMongo"
   ]
  },
  {
   "cell_type": "code",
   "execution_count": 1,
   "metadata": {
    "colab": {},
    "colab_type": "code",
    "id": "56Yk9yQtB_bd"
   },
   "outputs": [
    {
     "name": "stdout",
     "output_type": "stream",
     "text": [
      "Mongo version 3.11.3\n"
     ]
    }
   ],
   "source": [
    "from IPython.core.display import display, HTML\n",
    "import pymongo\n",
    "from pymongo import MongoClient\n",
    "print ('Mongo version ' + pymongo.__version__)"
   ]
  },
  {
   "cell_type": "markdown",
   "metadata": {
    "colab_type": "text",
    "id": "RYmFPZ0rB_bk"
   },
   "source": [
    "Start the mongod server (if it isn't lready running) by executing  \n",
    "`mongod`  \n",
    "at the command prompt. "
   ]
  },
  {
   "cell_type": "code",
   "execution_count": 2,
   "metadata": {
    "colab": {},
    "colab_type": "code",
    "id": "NiYV2_VIB_bm"
   },
   "outputs": [],
   "source": [
    "client = MongoClient('localhost', 27017)"
   ]
  },
  {
   "cell_type": "code",
   "execution_count": 3,
   "metadata": {
    "colab": {},
    "colab_type": "code",
    "id": "bT3ZRAlUB_bs"
   },
   "outputs": [],
   "source": [
    "db = client.test\n",
    "collection = db.people\n",
    "collection.drop()"
   ]
  },
  {
   "cell_type": "markdown",
   "metadata": {
    "colab_type": "text",
    "id": "QThQjc41B_bx"
   },
   "source": [
    "Create a new database:"
   ]
  },
  {
   "cell_type": "code",
   "execution_count": 4,
   "metadata": {
    "colab": {},
    "colab_type": "code",
    "id": "ZXEhlduTB_bz"
   },
   "outputs": [],
   "source": [
    "mydb = client[\"mydatabase\"]"
   ]
  },
  {
   "cell_type": "markdown",
   "metadata": {
    "colab_type": "text",
    "id": "pGnGorm6B_b3"
   },
   "source": [
    "Confirm that the database exists ... \n",
    "\n",
    "- list all databases in your system:"
   ]
  },
  {
   "cell_type": "code",
   "execution_count": 5,
   "metadata": {
    "colab": {},
    "colab_type": "code",
    "id": "q2XzfF-GB_b4"
   },
   "outputs": [
    {
     "data": {
      "text/plain": [
       "<pymongo.command_cursor.CommandCursor at 0x7fc5586becd0>"
      ]
     },
     "execution_count": 5,
     "metadata": {},
     "output_type": "execute_result"
    }
   ],
   "source": [
    "client.list_databases()"
   ]
  },
  {
   "cell_type": "markdown",
   "metadata": {
    "colab_type": "text",
    "id": "D5FP0EKIB_b7"
   },
   "source": [
    "- check for the database by name:"
   ]
  },
  {
   "cell_type": "code",
   "execution_count": null,
   "metadata": {
    "colab": {},
    "colab_type": "code",
    "id": "6b7stC2jB_b8"
   },
   "outputs": [],
   "source": []
  },
  {
   "cell_type": "markdown",
   "metadata": {
    "colab_type": "text",
    "id": "h9QhJxWIB_b_"
   },
   "source": [
    "The new database was not found because mongodb is lazy: the db won't get created until data has been written to it!"
   ]
  },
  {
   "cell_type": "markdown",
   "metadata": {
    "colab_type": "text",
    "id": "HvVFPpgRB_cA"
   },
   "source": [
    "Create a collection called \"customers\" (with object name `mycol`):"
   ]
  },
  {
   "cell_type": "code",
   "execution_count": 6,
   "metadata": {
    "colab": {},
    "colab_type": "code",
    "id": "cR-l1YrYB_cB"
   },
   "outputs": [],
   "source": [
    "mycol = mydb['customers']"
   ]
  },
  {
   "cell_type": "markdown",
   "metadata": {
    "colab_type": "text",
    "id": "TRIbsM6VB_cE"
   },
   "source": [
    "Create a document (i.e. a dictionary) with two name:value items \n",
    "(\"name\" = \"John\", and \"address\" = \"Highway 37\") and insert \n",
    "it into the \"customers\" collection: "
   ]
  },
  {
   "cell_type": "code",
   "execution_count": 7,
   "metadata": {
    "colab": {},
    "colab_type": "code",
    "id": "KI1lYOBvB_cF"
   },
   "outputs": [],
   "source": [
    "mydict = {'name':'John','address':'Highway 37'}\n",
    "\n",
    "x = mycol.insert_one(mydict)"
   ]
  },
  {
   "cell_type": "markdown",
   "metadata": {
    "colab_type": "text",
    "id": "_EEiTjd_B_cH"
   },
   "source": [
    "Now test for the existence of the database:"
   ]
  },
  {
   "cell_type": "code",
   "execution_count": 8,
   "metadata": {
    "colab": {},
    "colab_type": "code",
    "id": "JsPz--uIB_cI"
   },
   "outputs": [
    {
     "name": "stdout",
     "output_type": "stream",
     "text": [
      "['admin', 'config', 'local', 'mydatabase']\n"
     ]
    }
   ],
   "source": [
    "print(client.list_database_names())"
   ]
  },
  {
   "cell_type": "markdown",
   "metadata": {
    "colab_type": "text",
    "id": "WvgAowAdB_cK"
   },
   "source": [
    "List all collections in the database:"
   ]
  },
  {
   "cell_type": "code",
   "execution_count": 9,
   "metadata": {
    "colab": {},
    "colab_type": "code",
    "id": "JMl-YlPNB_cK"
   },
   "outputs": [
    {
     "name": "stdout",
     "output_type": "stream",
     "text": [
      "['customers']\n"
     ]
    }
   ],
   "source": [
    "print(mydb.list_collection_names())"
   ]
  },
  {
   "cell_type": "markdown",
   "metadata": {
    "colab_type": "text",
    "id": "ZBpH0Q9dB_cM"
   },
   "source": [
    "Insert another record in the \"customers\" collection \n",
    "(\"name\" = \"Peter\", \"address\" = \"Lowstreet 27\") \n",
    "and return the value of the _id field:"
   ]
  },
  {
   "cell_type": "code",
   "execution_count": 10,
   "metadata": {
    "colab": {},
    "colab_type": "code",
    "id": "LzSwoIlIB_cN"
   },
   "outputs": [
    {
     "name": "stdout",
     "output_type": "stream",
     "text": [
      "602cb65542e66a7ebf2112d4\n"
     ]
    }
   ],
   "source": [
    "mydict = { \"name\": \"Peter\", \"address\": \"Lowstreet 27\" }\n",
    "\n",
    "x = mycol.insert_one(mydict)\n",
    "\n",
    "print(x.inserted_id)"
   ]
  },
  {
   "cell_type": "markdown",
   "metadata": {
    "colab_type": "text",
    "id": "g81P900vB_cP"
   },
   "source": [
    "Given the list of dicts below, insert multiple documents into \n",
    "the collection using the insert_many() method:"
   ]
  },
  {
   "cell_type": "code",
   "execution_count": 11,
   "metadata": {
    "colab": {},
    "colab_type": "code",
    "id": "E7fwTxbcB_cP"
   },
   "outputs": [],
   "source": [
    "mylist = [\n",
    "  { \"name\": \"Amy\", \"address\": \"Apple st 652\"},\n",
    "  { \"name\": \"Hannah\", \"address\": \"Mountain 21\"},\n",
    "  { \"name\": \"Michael\", \"address\": \"Valley 345\"},\n",
    "  { \"name\": \"Sandy\", \"address\": \"Ocean blvd 2\"},\n",
    "  { \"name\": \"Betty\", \"address\": \"Green Grass 1\"},\n",
    "  { \"name\": \"Richard\", \"address\": \"Sky st 331\"},\n",
    "  { \"name\": \"Susan\", \"address\": \"One way 98\"},\n",
    "  { \"name\": \"Vicky\", \"address\": \"Yellow Garden 2\"},\n",
    "  { \"name\": \"Ben\", \"address\": \"Park Lane 38\"},\n",
    "  { \"name\": \"William\", \"address\": \"Central st 954\"},\n",
    "  { \"name\": \"Chuck\", \"address\": \"Main Road 989\"},\n",
    "  { \"name\": \"Viola\", \"address\": \"Sideway 1633\"}\n",
    "]"
   ]
  },
  {
   "cell_type": "code",
   "execution_count": 12,
   "metadata": {
    "colab": {},
    "colab_type": "code",
    "id": "g6xDpO86B_cR"
   },
   "outputs": [],
   "source": [
    "x = mycol.insert_many(mylist)"
   ]
  },
  {
   "cell_type": "markdown",
   "metadata": {
    "colab_type": "text",
    "id": "ZmuKgJ5SB_cU"
   },
   "source": [
    "Print a list of the _id values of the inserted documents:"
   ]
  },
  {
   "cell_type": "code",
   "execution_count": 13,
   "metadata": {
    "colab": {},
    "colab_type": "code",
    "id": "zLS5mhlIB_cV"
   },
   "outputs": [
    {
     "name": "stdout",
     "output_type": "stream",
     "text": [
      "[ObjectId('602cb65542e66a7ebf2112d5'), ObjectId('602cb65542e66a7ebf2112d6'), ObjectId('602cb65542e66a7ebf2112d7'), ObjectId('602cb65542e66a7ebf2112d8'), ObjectId('602cb65542e66a7ebf2112d9'), ObjectId('602cb65542e66a7ebf2112da'), ObjectId('602cb65542e66a7ebf2112db'), ObjectId('602cb65542e66a7ebf2112dc'), ObjectId('602cb65542e66a7ebf2112dd'), ObjectId('602cb65542e66a7ebf2112de'), ObjectId('602cb65542e66a7ebf2112df'), ObjectId('602cb65542e66a7ebf2112e0')]\n"
     ]
    }
   ],
   "source": [
    "print(x.inserted_ids)"
   ]
  },
  {
   "cell_type": "markdown",
   "metadata": {
    "colab_type": "text",
    "id": "kC0U_tYqB_cX"
   },
   "source": [
    "Execute the next cell to insert a list of dicts with specified `_id`s:"
   ]
  },
  {
   "cell_type": "code",
   "execution_count": 15,
   "metadata": {
    "colab": {},
    "colab_type": "code",
    "id": "RnAv0sMdB_cX"
   },
   "outputs": [
    {
     "ename": "BulkWriteError",
     "evalue": "batch op errors occurred, full error: {'writeErrors': [{'index': 0, 'code': 11000, 'keyPattern': {'_id': 1}, 'keyValue': {'_id': 1}, 'errmsg': 'E11000 duplicate key error collection: mydatabase.customers index: _id_ dup key: { _id: 1 }', 'op': {'_id': 1, 'name': 'John', 'address': 'Highway 37'}}], 'writeConcernErrors': [], 'nInserted': 0, 'nUpserted': 0, 'nMatched': 0, 'nModified': 0, 'nRemoved': 0, 'upserted': []}",
     "output_type": "error",
     "traceback": [
      "\u001b[0;31m---------------------------------------------------------------------------\u001b[0m",
      "\u001b[0;31mBulkWriteError\u001b[0m                            Traceback (most recent call last)",
      "\u001b[0;32m<ipython-input-15-0e583e9f6834>\u001b[0m in \u001b[0;36m<module>\u001b[0;34m\u001b[0m\n\u001b[1;32m     15\u001b[0m   \u001b[0;34m{\u001b[0m \u001b[0;34m\"_id\"\u001b[0m\u001b[0;34m:\u001b[0m \u001b[0;36m14\u001b[0m\u001b[0;34m,\u001b[0m \u001b[0;34m\"name\"\u001b[0m\u001b[0;34m:\u001b[0m \u001b[0;34m\"Viola\"\u001b[0m\u001b[0;34m,\u001b[0m \u001b[0;34m\"address\"\u001b[0m\u001b[0;34m:\u001b[0m \u001b[0;34m\"Sideway 1633\"\u001b[0m\u001b[0;34m}\u001b[0m\u001b[0;34m\u001b[0m\u001b[0;34m\u001b[0m\u001b[0m\n\u001b[1;32m     16\u001b[0m ]\n\u001b[0;32m---> 17\u001b[0;31m \u001b[0mx\u001b[0m \u001b[0;34m=\u001b[0m \u001b[0mmycol\u001b[0m\u001b[0;34m.\u001b[0m\u001b[0minsert_many\u001b[0m\u001b[0;34m(\u001b[0m\u001b[0mmylist\u001b[0m\u001b[0;34m)\u001b[0m\u001b[0;34m\u001b[0m\u001b[0;34m\u001b[0m\u001b[0m\n\u001b[0m\u001b[1;32m     18\u001b[0m \u001b[0mprint\u001b[0m\u001b[0;34m(\u001b[0m\u001b[0mx\u001b[0m\u001b[0;34m.\u001b[0m\u001b[0minserted_ids\u001b[0m\u001b[0;34m)\u001b[0m\u001b[0;34m\u001b[0m\u001b[0;34m\u001b[0m\u001b[0m\n",
      "\u001b[0;32m/opt/anaconda3/lib/python3.8/site-packages/pymongo/collection.py\u001b[0m in \u001b[0;36minsert_many\u001b[0;34m(self, documents, ordered, bypass_document_validation, session)\u001b[0m\n\u001b[1;32m    759\u001b[0m         \u001b[0mblk\u001b[0m \u001b[0;34m=\u001b[0m \u001b[0m_Bulk\u001b[0m\u001b[0;34m(\u001b[0m\u001b[0mself\u001b[0m\u001b[0;34m,\u001b[0m \u001b[0mordered\u001b[0m\u001b[0;34m,\u001b[0m \u001b[0mbypass_document_validation\u001b[0m\u001b[0;34m)\u001b[0m\u001b[0;34m\u001b[0m\u001b[0;34m\u001b[0m\u001b[0m\n\u001b[1;32m    760\u001b[0m         \u001b[0mblk\u001b[0m\u001b[0;34m.\u001b[0m\u001b[0mops\u001b[0m \u001b[0;34m=\u001b[0m \u001b[0;34m[\u001b[0m\u001b[0mdoc\u001b[0m \u001b[0;32mfor\u001b[0m \u001b[0mdoc\u001b[0m \u001b[0;32min\u001b[0m \u001b[0mgen\u001b[0m\u001b[0;34m(\u001b[0m\u001b[0;34m)\u001b[0m\u001b[0;34m]\u001b[0m\u001b[0;34m\u001b[0m\u001b[0;34m\u001b[0m\u001b[0m\n\u001b[0;32m--> 761\u001b[0;31m         \u001b[0mblk\u001b[0m\u001b[0;34m.\u001b[0m\u001b[0mexecute\u001b[0m\u001b[0;34m(\u001b[0m\u001b[0mwrite_concern\u001b[0m\u001b[0;34m,\u001b[0m \u001b[0msession\u001b[0m\u001b[0;34m=\u001b[0m\u001b[0msession\u001b[0m\u001b[0;34m)\u001b[0m\u001b[0;34m\u001b[0m\u001b[0;34m\u001b[0m\u001b[0m\n\u001b[0m\u001b[1;32m    762\u001b[0m         \u001b[0;32mreturn\u001b[0m \u001b[0mInsertManyResult\u001b[0m\u001b[0;34m(\u001b[0m\u001b[0minserted_ids\u001b[0m\u001b[0;34m,\u001b[0m \u001b[0mwrite_concern\u001b[0m\u001b[0;34m.\u001b[0m\u001b[0macknowledged\u001b[0m\u001b[0;34m)\u001b[0m\u001b[0;34m\u001b[0m\u001b[0;34m\u001b[0m\u001b[0m\n\u001b[1;32m    763\u001b[0m \u001b[0;34m\u001b[0m\u001b[0m\n",
      "\u001b[0;32m/opt/anaconda3/lib/python3.8/site-packages/pymongo/bulk.py\u001b[0m in \u001b[0;36mexecute\u001b[0;34m(self, write_concern, session)\u001b[0m\n\u001b[1;32m    526\u001b[0m                 \u001b[0mself\u001b[0m\u001b[0;34m.\u001b[0m\u001b[0mexecute_no_results\u001b[0m\u001b[0;34m(\u001b[0m\u001b[0msock_info\u001b[0m\u001b[0;34m,\u001b[0m \u001b[0mgenerator\u001b[0m\u001b[0;34m)\u001b[0m\u001b[0;34m\u001b[0m\u001b[0;34m\u001b[0m\u001b[0m\n\u001b[1;32m    527\u001b[0m         \u001b[0;32melse\u001b[0m\u001b[0;34m:\u001b[0m\u001b[0;34m\u001b[0m\u001b[0;34m\u001b[0m\u001b[0m\n\u001b[0;32m--> 528\u001b[0;31m             \u001b[0;32mreturn\u001b[0m \u001b[0mself\u001b[0m\u001b[0;34m.\u001b[0m\u001b[0mexecute_command\u001b[0m\u001b[0;34m(\u001b[0m\u001b[0mgenerator\u001b[0m\u001b[0;34m,\u001b[0m \u001b[0mwrite_concern\u001b[0m\u001b[0;34m,\u001b[0m \u001b[0msession\u001b[0m\u001b[0;34m)\u001b[0m\u001b[0;34m\u001b[0m\u001b[0;34m\u001b[0m\u001b[0m\n\u001b[0m\u001b[1;32m    529\u001b[0m \u001b[0;34m\u001b[0m\u001b[0m\n\u001b[1;32m    530\u001b[0m \u001b[0;34m\u001b[0m\u001b[0m\n",
      "\u001b[0;32m/opt/anaconda3/lib/python3.8/site-packages/pymongo/bulk.py\u001b[0m in \u001b[0;36mexecute_command\u001b[0;34m(self, generator, write_concern, session)\u001b[0m\n\u001b[1;32m    361\u001b[0m \u001b[0;34m\u001b[0m\u001b[0m\n\u001b[1;32m    362\u001b[0m         \u001b[0;32mif\u001b[0m \u001b[0mfull_result\u001b[0m\u001b[0;34m[\u001b[0m\u001b[0;34m\"writeErrors\"\u001b[0m\u001b[0;34m]\u001b[0m \u001b[0;32mor\u001b[0m \u001b[0mfull_result\u001b[0m\u001b[0;34m[\u001b[0m\u001b[0;34m\"writeConcernErrors\"\u001b[0m\u001b[0;34m]\u001b[0m\u001b[0;34m:\u001b[0m\u001b[0;34m\u001b[0m\u001b[0;34m\u001b[0m\u001b[0m\n\u001b[0;32m--> 363\u001b[0;31m             \u001b[0m_raise_bulk_write_error\u001b[0m\u001b[0;34m(\u001b[0m\u001b[0mfull_result\u001b[0m\u001b[0;34m)\u001b[0m\u001b[0;34m\u001b[0m\u001b[0;34m\u001b[0m\u001b[0m\n\u001b[0m\u001b[1;32m    364\u001b[0m         \u001b[0;32mreturn\u001b[0m \u001b[0mfull_result\u001b[0m\u001b[0;34m\u001b[0m\u001b[0;34m\u001b[0m\u001b[0m\n\u001b[1;32m    365\u001b[0m \u001b[0;34m\u001b[0m\u001b[0m\n",
      "\u001b[0;32m/opt/anaconda3/lib/python3.8/site-packages/pymongo/bulk.py\u001b[0m in \u001b[0;36m_raise_bulk_write_error\u001b[0;34m(full_result)\u001b[0m\n\u001b[1;32m    138\u001b[0m         full_result[\"writeErrors\"].sort(\n\u001b[1;32m    139\u001b[0m             key=lambda error: error[\"index\"])\n\u001b[0;32m--> 140\u001b[0;31m     \u001b[0;32mraise\u001b[0m \u001b[0mBulkWriteError\u001b[0m\u001b[0;34m(\u001b[0m\u001b[0mfull_result\u001b[0m\u001b[0;34m)\u001b[0m\u001b[0;34m\u001b[0m\u001b[0;34m\u001b[0m\u001b[0m\n\u001b[0m\u001b[1;32m    141\u001b[0m \u001b[0;34m\u001b[0m\u001b[0m\n\u001b[1;32m    142\u001b[0m \u001b[0;34m\u001b[0m\u001b[0m\n",
      "\u001b[0;31mBulkWriteError\u001b[0m: batch op errors occurred, full error: {'writeErrors': [{'index': 0, 'code': 11000, 'keyPattern': {'_id': 1}, 'keyValue': {'_id': 1}, 'errmsg': 'E11000 duplicate key error collection: mydatabase.customers index: _id_ dup key: { _id: 1 }', 'op': {'_id': 1, 'name': 'John', 'address': 'Highway 37'}}], 'writeConcernErrors': [], 'nInserted': 0, 'nUpserted': 0, 'nMatched': 0, 'nModified': 0, 'nRemoved': 0, 'upserted': []}"
     ]
    }
   ],
   "source": [
    "mylist = [\n",
    "  { \"_id\": 1, \"name\": \"John\", \"address\": \"Highway 37\"},\n",
    "  { \"_id\": 2, \"name\": \"Peter\", \"address\": \"Lowstreet 27\"},\n",
    "  { \"_id\": 3, \"name\": \"Amy\", \"address\": \"Apple st 652\"},\n",
    "  { \"_id\": 4, \"name\": \"Hannah\", \"address\": \"Mountain 21\"},\n",
    "  { \"_id\": 5, \"name\": \"Michael\", \"address\": \"Valley 345\"},\n",
    "  { \"_id\": 6, \"name\": \"Sandy\", \"address\": \"Ocean blvd 2\"},\n",
    "  { \"_id\": 7, \"name\": \"Betty\", \"address\": \"Green Grass 1\"},\n",
    "  { \"_id\": 8, \"name\": \"Richard\", \"address\": \"Sky st 331\"},\n",
    "  { \"_id\": 9, \"name\": \"Susan\", \"address\": \"One way 98\"},\n",
    "  { \"_id\": 10, \"name\": \"Vicky\", \"address\": \"Yellow Garden 2\"},\n",
    "  { \"_id\": 11, \"name\": \"Ben\", \"address\": \"Park Lane 38\"},\n",
    "  { \"_id\": 12, \"name\": \"William\", \"address\": \"Central st 954\"},\n",
    "  { \"_id\": 13, \"name\": \"Chuck\", \"address\": \"Main Road 989\"},\n",
    "  { \"_id\": 14, \"name\": \"Viola\", \"address\": \"Sideway 1633\"}\n",
    "]\n",
    "x = mycol.insert_many(mylist)\n",
    "print(x.inserted_ids)"
   ]
  },
  {
   "cell_type": "markdown",
   "metadata": {
    "colab_type": "text",
    "id": "vVPR7vhNB_cZ"
   },
   "source": [
    "Now try inserting a new dict with an existing `_id`:"
   ]
  },
  {
   "cell_type": "code",
   "execution_count": 37,
   "metadata": {
    "colab": {},
    "colab_type": "code",
    "id": "Gklp0IIIB_ca"
   },
   "outputs": [],
   "source": [
    "x = mycol.insert_one({ \"_id\": 14, \"name\": \"Manuel\", \"address\": \"Barcelona\"})"
   ]
  },
  {
   "cell_type": "markdown",
   "metadata": {
    "colab_type": "text",
    "id": "3CKpbRGDB_cb"
   },
   "source": [
    "So, if we want to manage `_id`s in code, we need to be careful!"
   ]
  },
  {
   "cell_type": "markdown",
   "metadata": {
    "colab_type": "text",
    "id": "eAyExvFAB_cc"
   },
   "source": [
    "This returns the first document in the collection:"
   ]
  },
  {
   "cell_type": "code",
   "execution_count": 17,
   "metadata": {
    "colab": {},
    "colab_type": "code",
    "id": "YzXmhIr4B_cc"
   },
   "outputs": [
    {
     "name": "stdout",
     "output_type": "stream",
     "text": [
      "{'_id': ObjectId('60251e0d9794ff2ab48eaf36'), 'name': 'John', 'address': 'Highway 37'}\n"
     ]
    }
   ],
   "source": [
    "x = mycol.find_one()\n",
    "print(x)"
   ]
  },
  {
   "cell_type": "markdown",
   "metadata": {
    "colab_type": "text",
    "id": "GWSokljaB_ce"
   },
   "source": [
    "Do the same for the document containing \"name\" = \"Hannah\":"
   ]
  },
  {
   "cell_type": "code",
   "execution_count": 18,
   "metadata": {
    "colab": {},
    "colab_type": "code",
    "id": "cA5k8a_dB_cf"
   },
   "outputs": [
    {
     "name": "stdout",
     "output_type": "stream",
     "text": [
      "{'_id': ObjectId('602cb2f143f48cef0e8f6205'), 'name': 'Hannah', 'address': 'Mountain 21'}\n"
     ]
    }
   ],
   "source": [
    "y = mycol.find_one({'name':'Hannah'})\n",
    "print(y)"
   ]
  },
  {
   "cell_type": "markdown",
   "metadata": {
    "colab_type": "text",
    "id": "DFCVFHu7B_ch"
   },
   "source": [
    "This returns (and prints) all documents in the collection:"
   ]
  },
  {
   "cell_type": "code",
   "execution_count": 19,
   "metadata": {
    "colab": {},
    "colab_type": "code",
    "id": "UXVB_CSMB_ch"
   },
   "outputs": [
    {
     "name": "stdout",
     "output_type": "stream",
     "text": [
      "{'_id': ObjectId('60251e0d9794ff2ab48eaf36'), 'name': 'John', 'address': 'Highway 37'}\n",
      "{'_id': ObjectId('60251e4b9794ff2ab48eaf37'), 'name': 'Peter', 'address': 'Lowstreet 27'}\n",
      "{'_id': ObjectId('60251ea69794ff2ab48eaf38'), 'name': 'Amy', 'address': 'Apple st 652'}\n",
      "{'_id': ObjectId('60251ea69794ff2ab48eaf3a'), 'name': 'Michael', 'address': 'Canyon 123'}\n",
      "{'_id': ObjectId('60251ea69794ff2ab48eaf3b'), 'name': 'Sandy', 'address': 'Ocean blvd 2'}\n",
      "{'_id': ObjectId('60251ea69794ff2ab48eaf3c'), 'name': 'Betty', 'address': 'Green Grass 1'}\n",
      "{'_id': ObjectId('60251ea69794ff2ab48eaf3d'), 'name': 'Richard', 'address': 'Sky st 331'}\n",
      "{'_id': ObjectId('60251ea69794ff2ab48eaf3e'), 'name': 'Susan', 'address': 'One way 98'}\n",
      "{'_id': ObjectId('60251ea69794ff2ab48eaf3f'), 'name': 'Vicky', 'address': 'Yellow Garden 2'}\n",
      "{'_id': ObjectId('60251ea69794ff2ab48eaf40'), 'name': 'Ben', 'address': 'Park Lane 38'}\n",
      "{'_id': ObjectId('60251ea69794ff2ab48eaf41'), 'name': 'William', 'address': 'Central st 954'}\n",
      "{'_id': ObjectId('60251ea69794ff2ab48eaf42'), 'name': 'Chuck', 'address': 'Main Road 989'}\n",
      "{'_id': ObjectId('60251ea69794ff2ab48eaf43'), 'name': 'Viola', 'address': 'Sideway 1633'}\n",
      "{'_id': 1, 'name': 'John', 'address': 'Highway 37'}\n",
      "{'_id': 2, 'name': 'Peter', 'address': 'Lowstreet 27'}\n",
      "{'_id': 3, 'name': 'Amy', 'address': 'Apple st 652'}\n",
      "{'_id': 5, 'name': 'Michael', 'address': 'Canyon 123'}\n",
      "{'_id': 6, 'name': 'Sandy', 'address': 'Ocean blvd 2'}\n",
      "{'_id': 7, 'name': 'Betty', 'address': 'Green Grass 1'}\n",
      "{'_id': 8, 'name': 'Richard', 'address': 'Sky st 331'}\n",
      "{'_id': 9, 'name': 'Susan', 'address': 'One way 98'}\n",
      "{'_id': ObjectId('602cb2f143f48cef0e8f6202'), 'name': 'John', 'address': 'Highway 37'}\n",
      "{'_id': ObjectId('602cb2f143f48cef0e8f6203'), 'name': 'Peter', 'address': 'Lowstreet 27'}\n",
      "{'_id': ObjectId('602cb2f143f48cef0e8f6204'), 'name': 'Amy', 'address': 'Apple st 652'}\n",
      "{'_id': ObjectId('602cb2f143f48cef0e8f6205'), 'name': 'Hannah', 'address': 'Mountain 21'}\n",
      "{'_id': ObjectId('602cb2f143f48cef0e8f6206'), 'name': 'Michael', 'address': 'Canyon 123'}\n",
      "{'_id': ObjectId('602cb2f143f48cef0e8f6207'), 'name': 'Sandy', 'address': 'Ocean blvd 2'}\n",
      "{'_id': ObjectId('602cb2f143f48cef0e8f6208'), 'name': 'Betty', 'address': 'Green Grass 1'}\n",
      "{'_id': ObjectId('602cb2f143f48cef0e8f6209'), 'name': 'Richard', 'address': 'Sky st 331'}\n",
      "{'_id': ObjectId('602cb2f143f48cef0e8f620a'), 'name': 'Susan', 'address': 'One way 98'}\n",
      "{'_id': ObjectId('602cb2f143f48cef0e8f620b'), 'name': 'Vicky', 'address': 'Yellow Garden 2'}\n",
      "{'_id': ObjectId('602cb2f143f48cef0e8f620c'), 'name': 'Ben', 'address': 'Park Lane 38'}\n",
      "{'_id': ObjectId('602cb2f143f48cef0e8f620d'), 'name': 'William', 'address': 'Central st 954'}\n",
      "{'_id': ObjectId('602cb2f143f48cef0e8f620e'), 'name': 'Chuck', 'address': 'Main Road 989'}\n",
      "{'_id': ObjectId('602cb2f143f48cef0e8f620f'), 'name': 'Viola', 'address': 'Sideway 1633'}\n",
      "{'_id': ObjectId('602cb4c6830c79a867cddce4'), 'name': 'John', 'address': 'Highway 37'}\n",
      "{'_id': ObjectId('602cb4c6830c79a867cddce5'), 'name': 'Peter', 'address': 'Lowstreet 27'}\n",
      "{'_id': ObjectId('602cb4c6830c79a867cddce6'), 'name': 'Amy', 'address': 'Apple st 652'}\n",
      "{'_id': ObjectId('602cb4c6830c79a867cddce7'), 'name': 'Hannah', 'address': 'Mountain 21'}\n",
      "{'_id': ObjectId('602cb4c6830c79a867cddce8'), 'name': 'Michael', 'address': 'Valley 345'}\n",
      "{'_id': ObjectId('602cb4c6830c79a867cddce9'), 'name': 'Sandy', 'address': 'Ocean blvd 2'}\n",
      "{'_id': ObjectId('602cb4c6830c79a867cddcea'), 'name': 'Betty', 'address': 'Green Grass 1'}\n",
      "{'_id': ObjectId('602cb4c6830c79a867cddceb'), 'name': 'Richard', 'address': 'Sky st 331'}\n",
      "{'_id': ObjectId('602cb4c6830c79a867cddcec'), 'name': 'Susan', 'address': 'One way 98'}\n",
      "{'_id': ObjectId('602cb4c6830c79a867cddced'), 'name': 'Vicky', 'address': 'Yellow Garden 2'}\n",
      "{'_id': ObjectId('602cb4c6830c79a867cddcee'), 'name': 'Ben', 'address': 'Park Lane 38'}\n",
      "{'_id': ObjectId('602cb4c6830c79a867cddcef'), 'name': 'William', 'address': 'Central st 954'}\n",
      "{'_id': ObjectId('602cb4c6830c79a867cddcf0'), 'name': 'Chuck', 'address': 'Main Road 989'}\n",
      "{'_id': ObjectId('602cb4c6830c79a867cddcf1'), 'name': 'Viola', 'address': 'Sideway 1633'}\n",
      "{'_id': 14, 'name': 'Manuel', 'address': 'Barcelona'}\n",
      "{'_id': ObjectId('602cb64821d0601b5420291a'), 'name': 'John', 'address': 'Highway 37'}\n",
      "{'_id': ObjectId('602cb64821d0601b5420291b'), 'name': 'Peter', 'address': 'Lowstreet 27'}\n",
      "{'_id': ObjectId('602cb64821d0601b5420291c'), 'name': 'Amy', 'address': 'Apple st 652'}\n",
      "{'_id': ObjectId('602cb64821d0601b5420291d'), 'name': 'Hannah', 'address': 'Mountain 21'}\n",
      "{'_id': ObjectId('602cb64821d0601b5420291e'), 'name': 'Michael', 'address': 'Valley 345'}\n",
      "{'_id': ObjectId('602cb64821d0601b5420291f'), 'name': 'Sandy', 'address': 'Ocean blvd 2'}\n",
      "{'_id': ObjectId('602cb64821d0601b54202920'), 'name': 'Betty', 'address': 'Green Grass 1'}\n",
      "{'_id': ObjectId('602cb64821d0601b54202921'), 'name': 'Richard', 'address': 'Sky st 331'}\n",
      "{'_id': ObjectId('602cb64821d0601b54202922'), 'name': 'Susan', 'address': 'One way 98'}\n",
      "{'_id': ObjectId('602cb64821d0601b54202923'), 'name': 'Vicky', 'address': 'Yellow Garden 2'}\n",
      "{'_id': ObjectId('602cb64821d0601b54202924'), 'name': 'Ben', 'address': 'Park Lane 38'}\n",
      "{'_id': ObjectId('602cb64821d0601b54202925'), 'name': 'William', 'address': 'Central st 954'}\n",
      "{'_id': ObjectId('602cb64821d0601b54202926'), 'name': 'Chuck', 'address': 'Main Road 989'}\n",
      "{'_id': ObjectId('602cb64821d0601b54202927'), 'name': 'Viola', 'address': 'Sideway 1633'}\n",
      "{'_id': ObjectId('602cb65542e66a7ebf2112d3'), 'name': 'John', 'address': 'Highway 37'}\n",
      "{'_id': ObjectId('602cb65542e66a7ebf2112d4'), 'name': 'Peter', 'address': 'Lowstreet 27'}\n",
      "{'_id': ObjectId('602cb65542e66a7ebf2112d5'), 'name': 'Amy', 'address': 'Apple st 652'}\n",
      "{'_id': ObjectId('602cb65542e66a7ebf2112d6'), 'name': 'Hannah', 'address': 'Mountain 21'}\n",
      "{'_id': ObjectId('602cb65542e66a7ebf2112d7'), 'name': 'Michael', 'address': 'Valley 345'}\n",
      "{'_id': ObjectId('602cb65542e66a7ebf2112d8'), 'name': 'Sandy', 'address': 'Ocean blvd 2'}\n",
      "{'_id': ObjectId('602cb65542e66a7ebf2112d9'), 'name': 'Betty', 'address': 'Green Grass 1'}\n",
      "{'_id': ObjectId('602cb65542e66a7ebf2112da'), 'name': 'Richard', 'address': 'Sky st 331'}\n",
      "{'_id': ObjectId('602cb65542e66a7ebf2112db'), 'name': 'Susan', 'address': 'One way 98'}\n",
      "{'_id': ObjectId('602cb65542e66a7ebf2112dc'), 'name': 'Vicky', 'address': 'Yellow Garden 2'}\n",
      "{'_id': ObjectId('602cb65542e66a7ebf2112dd'), 'name': 'Ben', 'address': 'Park Lane 38'}\n",
      "{'_id': ObjectId('602cb65542e66a7ebf2112de'), 'name': 'William', 'address': 'Central st 954'}\n",
      "{'_id': ObjectId('602cb65542e66a7ebf2112df'), 'name': 'Chuck', 'address': 'Main Road 989'}\n",
      "{'_id': ObjectId('602cb65542e66a7ebf2112e0'), 'name': 'Viola', 'address': 'Sideway 1633'}\n"
     ]
    }
   ],
   "source": [
    "for x in mycol.find():\n",
    "  print(x)"
   ]
  },
  {
   "cell_type": "markdown",
   "metadata": {
    "colab_type": "text",
    "id": "6dQsHIF6B_cj"
   },
   "source": [
    "This returns only the name and address fields:"
   ]
  },
  {
   "cell_type": "code",
   "execution_count": 20,
   "metadata": {
    "colab": {},
    "colab_type": "code",
    "id": "OKY_Buz0B_ck"
   },
   "outputs": [
    {
     "name": "stdout",
     "output_type": "stream",
     "text": [
      "{'name': 'John', 'address': 'Highway 37'}\n",
      "{'name': 'Peter', 'address': 'Lowstreet 27'}\n",
      "{'name': 'Amy', 'address': 'Apple st 652'}\n",
      "{'name': 'Michael', 'address': 'Canyon 123'}\n",
      "{'name': 'Sandy', 'address': 'Ocean blvd 2'}\n",
      "{'name': 'Betty', 'address': 'Green Grass 1'}\n",
      "{'name': 'Richard', 'address': 'Sky st 331'}\n",
      "{'name': 'Susan', 'address': 'One way 98'}\n",
      "{'name': 'Vicky', 'address': 'Yellow Garden 2'}\n",
      "{'name': 'Ben', 'address': 'Park Lane 38'}\n",
      "{'name': 'William', 'address': 'Central st 954'}\n",
      "{'name': 'Chuck', 'address': 'Main Road 989'}\n",
      "{'name': 'Viola', 'address': 'Sideway 1633'}\n",
      "{'name': 'John', 'address': 'Highway 37'}\n",
      "{'name': 'Peter', 'address': 'Lowstreet 27'}\n",
      "{'name': 'Amy', 'address': 'Apple st 652'}\n",
      "{'name': 'Michael', 'address': 'Canyon 123'}\n",
      "{'name': 'Sandy', 'address': 'Ocean blvd 2'}\n",
      "{'name': 'Betty', 'address': 'Green Grass 1'}\n",
      "{'name': 'Richard', 'address': 'Sky st 331'}\n",
      "{'name': 'Susan', 'address': 'One way 98'}\n",
      "{'name': 'John', 'address': 'Highway 37'}\n",
      "{'name': 'Peter', 'address': 'Lowstreet 27'}\n",
      "{'name': 'Amy', 'address': 'Apple st 652'}\n",
      "{'name': 'Hannah', 'address': 'Mountain 21'}\n",
      "{'name': 'Michael', 'address': 'Canyon 123'}\n",
      "{'name': 'Sandy', 'address': 'Ocean blvd 2'}\n",
      "{'name': 'Betty', 'address': 'Green Grass 1'}\n",
      "{'name': 'Richard', 'address': 'Sky st 331'}\n",
      "{'name': 'Susan', 'address': 'One way 98'}\n",
      "{'name': 'Vicky', 'address': 'Yellow Garden 2'}\n",
      "{'name': 'Ben', 'address': 'Park Lane 38'}\n",
      "{'name': 'William', 'address': 'Central st 954'}\n",
      "{'name': 'Chuck', 'address': 'Main Road 989'}\n",
      "{'name': 'Viola', 'address': 'Sideway 1633'}\n",
      "{'name': 'John', 'address': 'Highway 37'}\n",
      "{'name': 'Peter', 'address': 'Lowstreet 27'}\n",
      "{'name': 'Amy', 'address': 'Apple st 652'}\n",
      "{'name': 'Hannah', 'address': 'Mountain 21'}\n",
      "{'name': 'Michael', 'address': 'Valley 345'}\n",
      "{'name': 'Sandy', 'address': 'Ocean blvd 2'}\n",
      "{'name': 'Betty', 'address': 'Green Grass 1'}\n",
      "{'name': 'Richard', 'address': 'Sky st 331'}\n",
      "{'name': 'Susan', 'address': 'One way 98'}\n",
      "{'name': 'Vicky', 'address': 'Yellow Garden 2'}\n",
      "{'name': 'Ben', 'address': 'Park Lane 38'}\n",
      "{'name': 'William', 'address': 'Central st 954'}\n",
      "{'name': 'Chuck', 'address': 'Main Road 989'}\n",
      "{'name': 'Viola', 'address': 'Sideway 1633'}\n",
      "{'name': 'Manuel', 'address': 'Barcelona'}\n",
      "{'name': 'John', 'address': 'Highway 37'}\n",
      "{'name': 'Peter', 'address': 'Lowstreet 27'}\n",
      "{'name': 'Amy', 'address': 'Apple st 652'}\n",
      "{'name': 'Hannah', 'address': 'Mountain 21'}\n",
      "{'name': 'Michael', 'address': 'Valley 345'}\n",
      "{'name': 'Sandy', 'address': 'Ocean blvd 2'}\n",
      "{'name': 'Betty', 'address': 'Green Grass 1'}\n",
      "{'name': 'Richard', 'address': 'Sky st 331'}\n",
      "{'name': 'Susan', 'address': 'One way 98'}\n",
      "{'name': 'Vicky', 'address': 'Yellow Garden 2'}\n",
      "{'name': 'Ben', 'address': 'Park Lane 38'}\n",
      "{'name': 'William', 'address': 'Central st 954'}\n",
      "{'name': 'Chuck', 'address': 'Main Road 989'}\n",
      "{'name': 'Viola', 'address': 'Sideway 1633'}\n",
      "{'name': 'John', 'address': 'Highway 37'}\n",
      "{'name': 'Peter', 'address': 'Lowstreet 27'}\n",
      "{'name': 'Amy', 'address': 'Apple st 652'}\n",
      "{'name': 'Hannah', 'address': 'Mountain 21'}\n",
      "{'name': 'Michael', 'address': 'Valley 345'}\n",
      "{'name': 'Sandy', 'address': 'Ocean blvd 2'}\n",
      "{'name': 'Betty', 'address': 'Green Grass 1'}\n",
      "{'name': 'Richard', 'address': 'Sky st 331'}\n",
      "{'name': 'Susan', 'address': 'One way 98'}\n",
      "{'name': 'Vicky', 'address': 'Yellow Garden 2'}\n",
      "{'name': 'Ben', 'address': 'Park Lane 38'}\n",
      "{'name': 'William', 'address': 'Central st 954'}\n",
      "{'name': 'Chuck', 'address': 'Main Road 989'}\n",
      "{'name': 'Viola', 'address': 'Sideway 1633'}\n"
     ]
    }
   ],
   "source": [
    "for x in mycol.find({},{ \"_id\": 0, \"name\": 1, \"address\": 1 }):\n",
    "  print(x)"
   ]
  },
  {
   "cell_type": "markdown",
   "metadata": {
    "colab_type": "text",
    "id": "9jAQ7LAdB_cm"
   },
   "source": [
    "Print only the `_id` and name fields:"
   ]
  },
  {
   "cell_type": "code",
   "execution_count": 21,
   "metadata": {
    "colab": {},
    "colab_type": "code",
    "id": "FP14yQUQB_cn"
   },
   "outputs": [
    {
     "name": "stdout",
     "output_type": "stream",
     "text": [
      "{'_id': ObjectId('60251e0d9794ff2ab48eaf36'), 'name': 'John'}\n",
      "{'_id': ObjectId('60251e4b9794ff2ab48eaf37'), 'name': 'Peter'}\n",
      "{'_id': ObjectId('60251ea69794ff2ab48eaf38'), 'name': 'Amy'}\n",
      "{'_id': ObjectId('60251ea69794ff2ab48eaf3a'), 'name': 'Michael'}\n",
      "{'_id': ObjectId('60251ea69794ff2ab48eaf3b'), 'name': 'Sandy'}\n",
      "{'_id': ObjectId('60251ea69794ff2ab48eaf3c'), 'name': 'Betty'}\n",
      "{'_id': ObjectId('60251ea69794ff2ab48eaf3d'), 'name': 'Richard'}\n",
      "{'_id': ObjectId('60251ea69794ff2ab48eaf3e'), 'name': 'Susan'}\n",
      "{'_id': ObjectId('60251ea69794ff2ab48eaf3f'), 'name': 'Vicky'}\n",
      "{'_id': ObjectId('60251ea69794ff2ab48eaf40'), 'name': 'Ben'}\n",
      "{'_id': ObjectId('60251ea69794ff2ab48eaf41'), 'name': 'William'}\n",
      "{'_id': ObjectId('60251ea69794ff2ab48eaf42'), 'name': 'Chuck'}\n",
      "{'_id': ObjectId('60251ea69794ff2ab48eaf43'), 'name': 'Viola'}\n",
      "{'_id': 1, 'name': 'John'}\n",
      "{'_id': 2, 'name': 'Peter'}\n",
      "{'_id': 3, 'name': 'Amy'}\n",
      "{'_id': 5, 'name': 'Michael'}\n",
      "{'_id': 6, 'name': 'Sandy'}\n",
      "{'_id': 7, 'name': 'Betty'}\n",
      "{'_id': 8, 'name': 'Richard'}\n",
      "{'_id': 9, 'name': 'Susan'}\n",
      "{'_id': ObjectId('602cb2f143f48cef0e8f6202'), 'name': 'John'}\n",
      "{'_id': ObjectId('602cb2f143f48cef0e8f6203'), 'name': 'Peter'}\n",
      "{'_id': ObjectId('602cb2f143f48cef0e8f6204'), 'name': 'Amy'}\n",
      "{'_id': ObjectId('602cb2f143f48cef0e8f6205'), 'name': 'Hannah'}\n",
      "{'_id': ObjectId('602cb2f143f48cef0e8f6206'), 'name': 'Michael'}\n",
      "{'_id': ObjectId('602cb2f143f48cef0e8f6207'), 'name': 'Sandy'}\n",
      "{'_id': ObjectId('602cb2f143f48cef0e8f6208'), 'name': 'Betty'}\n",
      "{'_id': ObjectId('602cb2f143f48cef0e8f6209'), 'name': 'Richard'}\n",
      "{'_id': ObjectId('602cb2f143f48cef0e8f620a'), 'name': 'Susan'}\n",
      "{'_id': ObjectId('602cb2f143f48cef0e8f620b'), 'name': 'Vicky'}\n",
      "{'_id': ObjectId('602cb2f143f48cef0e8f620c'), 'name': 'Ben'}\n",
      "{'_id': ObjectId('602cb2f143f48cef0e8f620d'), 'name': 'William'}\n",
      "{'_id': ObjectId('602cb2f143f48cef0e8f620e'), 'name': 'Chuck'}\n",
      "{'_id': ObjectId('602cb2f143f48cef0e8f620f'), 'name': 'Viola'}\n",
      "{'_id': ObjectId('602cb4c6830c79a867cddce4'), 'name': 'John'}\n",
      "{'_id': ObjectId('602cb4c6830c79a867cddce5'), 'name': 'Peter'}\n",
      "{'_id': ObjectId('602cb4c6830c79a867cddce6'), 'name': 'Amy'}\n",
      "{'_id': ObjectId('602cb4c6830c79a867cddce7'), 'name': 'Hannah'}\n",
      "{'_id': ObjectId('602cb4c6830c79a867cddce8'), 'name': 'Michael'}\n",
      "{'_id': ObjectId('602cb4c6830c79a867cddce9'), 'name': 'Sandy'}\n",
      "{'_id': ObjectId('602cb4c6830c79a867cddcea'), 'name': 'Betty'}\n",
      "{'_id': ObjectId('602cb4c6830c79a867cddceb'), 'name': 'Richard'}\n",
      "{'_id': ObjectId('602cb4c6830c79a867cddcec'), 'name': 'Susan'}\n",
      "{'_id': ObjectId('602cb4c6830c79a867cddced'), 'name': 'Vicky'}\n",
      "{'_id': ObjectId('602cb4c6830c79a867cddcee'), 'name': 'Ben'}\n",
      "{'_id': ObjectId('602cb4c6830c79a867cddcef'), 'name': 'William'}\n",
      "{'_id': ObjectId('602cb4c6830c79a867cddcf0'), 'name': 'Chuck'}\n",
      "{'_id': ObjectId('602cb4c6830c79a867cddcf1'), 'name': 'Viola'}\n",
      "{'_id': 14, 'name': 'Manuel'}\n",
      "{'_id': ObjectId('602cb64821d0601b5420291a'), 'name': 'John'}\n",
      "{'_id': ObjectId('602cb64821d0601b5420291b'), 'name': 'Peter'}\n",
      "{'_id': ObjectId('602cb64821d0601b5420291c'), 'name': 'Amy'}\n",
      "{'_id': ObjectId('602cb64821d0601b5420291d'), 'name': 'Hannah'}\n",
      "{'_id': ObjectId('602cb64821d0601b5420291e'), 'name': 'Michael'}\n",
      "{'_id': ObjectId('602cb64821d0601b5420291f'), 'name': 'Sandy'}\n",
      "{'_id': ObjectId('602cb64821d0601b54202920'), 'name': 'Betty'}\n",
      "{'_id': ObjectId('602cb64821d0601b54202921'), 'name': 'Richard'}\n",
      "{'_id': ObjectId('602cb64821d0601b54202922'), 'name': 'Susan'}\n",
      "{'_id': ObjectId('602cb64821d0601b54202923'), 'name': 'Vicky'}\n",
      "{'_id': ObjectId('602cb64821d0601b54202924'), 'name': 'Ben'}\n",
      "{'_id': ObjectId('602cb64821d0601b54202925'), 'name': 'William'}\n",
      "{'_id': ObjectId('602cb64821d0601b54202926'), 'name': 'Chuck'}\n",
      "{'_id': ObjectId('602cb64821d0601b54202927'), 'name': 'Viola'}\n",
      "{'_id': ObjectId('602cb65542e66a7ebf2112d3'), 'name': 'John'}\n",
      "{'_id': ObjectId('602cb65542e66a7ebf2112d4'), 'name': 'Peter'}\n",
      "{'_id': ObjectId('602cb65542e66a7ebf2112d5'), 'name': 'Amy'}\n",
      "{'_id': ObjectId('602cb65542e66a7ebf2112d6'), 'name': 'Hannah'}\n",
      "{'_id': ObjectId('602cb65542e66a7ebf2112d7'), 'name': 'Michael'}\n",
      "{'_id': ObjectId('602cb65542e66a7ebf2112d8'), 'name': 'Sandy'}\n",
      "{'_id': ObjectId('602cb65542e66a7ebf2112d9'), 'name': 'Betty'}\n",
      "{'_id': ObjectId('602cb65542e66a7ebf2112da'), 'name': 'Richard'}\n",
      "{'_id': ObjectId('602cb65542e66a7ebf2112db'), 'name': 'Susan'}\n",
      "{'_id': ObjectId('602cb65542e66a7ebf2112dc'), 'name': 'Vicky'}\n",
      "{'_id': ObjectId('602cb65542e66a7ebf2112dd'), 'name': 'Ben'}\n",
      "{'_id': ObjectId('602cb65542e66a7ebf2112de'), 'name': 'William'}\n",
      "{'_id': ObjectId('602cb65542e66a7ebf2112df'), 'name': 'Chuck'}\n",
      "{'_id': ObjectId('602cb65542e66a7ebf2112e0'), 'name': 'Viola'}\n"
     ]
    }
   ],
   "source": [
    "for x in mycol.find({},{ \"_id\": 1, \"name\": 1 }):\n",
    "  print(x)"
   ]
  },
  {
   "cell_type": "markdown",
   "metadata": {
    "colab_type": "text",
    "id": "esHLntbmB_cp"
   },
   "source": [
    "So, we must explicitly use `\"_id\": 0` to exclude it, but for other fields we simply omit them from the dict argument."
   ]
  },
  {
   "cell_type": "markdown",
   "metadata": {
    "colab_type": "text",
    "id": "hSOdFGEpB_cq"
   },
   "source": [
    "To include field conditionals in a query, we use `$` operators. This finds addresses starting with \"S\" or greater:"
   ]
  },
  {
   "cell_type": "code",
   "execution_count": 22,
   "metadata": {
    "colab": {},
    "colab_type": "code",
    "id": "KaHOWDwkB_cq"
   },
   "outputs": [
    {
     "name": "stdout",
     "output_type": "stream",
     "text": [
      "{'_id': ObjectId('60251ea69794ff2ab48eaf3d'), 'name': 'Richard', 'address': 'Sky st 331'}\n",
      "{'_id': ObjectId('60251ea69794ff2ab48eaf3f'), 'name': 'Vicky', 'address': 'Yellow Garden 2'}\n",
      "{'_id': ObjectId('60251ea69794ff2ab48eaf43'), 'name': 'Viola', 'address': 'Sideway 1633'}\n",
      "{'_id': 8, 'name': 'Richard', 'address': 'Sky st 331'}\n",
      "{'_id': ObjectId('602cb2f143f48cef0e8f6209'), 'name': 'Richard', 'address': 'Sky st 331'}\n",
      "{'_id': ObjectId('602cb2f143f48cef0e8f620b'), 'name': 'Vicky', 'address': 'Yellow Garden 2'}\n",
      "{'_id': ObjectId('602cb2f143f48cef0e8f620f'), 'name': 'Viola', 'address': 'Sideway 1633'}\n",
      "{'_id': ObjectId('602cb4c6830c79a867cddce8'), 'name': 'Michael', 'address': 'Valley 345'}\n",
      "{'_id': ObjectId('602cb4c6830c79a867cddceb'), 'name': 'Richard', 'address': 'Sky st 331'}\n",
      "{'_id': ObjectId('602cb4c6830c79a867cddced'), 'name': 'Vicky', 'address': 'Yellow Garden 2'}\n",
      "{'_id': ObjectId('602cb4c6830c79a867cddcf1'), 'name': 'Viola', 'address': 'Sideway 1633'}\n",
      "{'_id': ObjectId('602cb64821d0601b5420291e'), 'name': 'Michael', 'address': 'Valley 345'}\n",
      "{'_id': ObjectId('602cb64821d0601b54202921'), 'name': 'Richard', 'address': 'Sky st 331'}\n",
      "{'_id': ObjectId('602cb64821d0601b54202923'), 'name': 'Vicky', 'address': 'Yellow Garden 2'}\n",
      "{'_id': ObjectId('602cb64821d0601b54202927'), 'name': 'Viola', 'address': 'Sideway 1633'}\n",
      "{'_id': ObjectId('602cb65542e66a7ebf2112d7'), 'name': 'Michael', 'address': 'Valley 345'}\n",
      "{'_id': ObjectId('602cb65542e66a7ebf2112da'), 'name': 'Richard', 'address': 'Sky st 331'}\n",
      "{'_id': ObjectId('602cb65542e66a7ebf2112dc'), 'name': 'Vicky', 'address': 'Yellow Garden 2'}\n",
      "{'_id': ObjectId('602cb65542e66a7ebf2112e0'), 'name': 'Viola', 'address': 'Sideway 1633'}\n"
     ]
    }
   ],
   "source": [
    "myquery = { \"address\": { \"$gt\": \"S\" } }\n",
    "mydoc = mycol.find(myquery)\n",
    "for x in mydoc:\n",
    "  print(x)"
   ]
  },
  {
   "cell_type": "markdown",
   "metadata": {
    "colab_type": "text",
    "id": "i3fUXWpiB_cs"
   },
   "source": [
    "Here are some more comparison operators:\n",
    "\n",
    "            $gt, $gte, $eq, $in, $nin, $exists, $and, $or, $not\n",
    "            \n",
    "Experiment with these until you understand how to use them."
   ]
  },
  {
   "cell_type": "code",
   "execution_count": null,
   "metadata": {
    "colab": {},
    "colab_type": "code",
    "id": "ensDpd9VB_ct"
   },
   "outputs": [],
   "source": []
  },
  {
   "cell_type": "markdown",
   "metadata": {
    "colab_type": "text",
    "id": "IxvWRoS3B_cu"
   },
   "source": [
    "Now find all docs with an address that begins with \"S\":  \n",
    "(HINT: The value for \"address\" in the argument should be the regex-based dict { \"$regex\": \"^S\" }.)"
   ]
  },
  {
   "cell_type": "code",
   "execution_count": 23,
   "metadata": {
    "colab": {},
    "colab_type": "code",
    "id": "i5zMYTsdB_cu"
   },
   "outputs": [
    {
     "name": "stdout",
     "output_type": "stream",
     "text": [
      "{'_id': ObjectId('60251ea69794ff2ab48eaf3d'), 'name': 'Richard', 'address': 'Sky st 331'}\n",
      "{'_id': ObjectId('60251ea69794ff2ab48eaf3f'), 'name': 'Vicky', 'address': 'Yellow Garden 2'}\n",
      "{'_id': ObjectId('60251ea69794ff2ab48eaf43'), 'name': 'Viola', 'address': 'Sideway 1633'}\n",
      "{'_id': 8, 'name': 'Richard', 'address': 'Sky st 331'}\n",
      "{'_id': ObjectId('602cb2f143f48cef0e8f6209'), 'name': 'Richard', 'address': 'Sky st 331'}\n",
      "{'_id': ObjectId('602cb2f143f48cef0e8f620b'), 'name': 'Vicky', 'address': 'Yellow Garden 2'}\n",
      "{'_id': ObjectId('602cb2f143f48cef0e8f620f'), 'name': 'Viola', 'address': 'Sideway 1633'}\n",
      "{'_id': ObjectId('602cb4c6830c79a867cddce8'), 'name': 'Michael', 'address': 'Valley 345'}\n",
      "{'_id': ObjectId('602cb4c6830c79a867cddceb'), 'name': 'Richard', 'address': 'Sky st 331'}\n",
      "{'_id': ObjectId('602cb4c6830c79a867cddced'), 'name': 'Vicky', 'address': 'Yellow Garden 2'}\n",
      "{'_id': ObjectId('602cb4c6830c79a867cddcf1'), 'name': 'Viola', 'address': 'Sideway 1633'}\n",
      "{'_id': ObjectId('602cb64821d0601b5420291e'), 'name': 'Michael', 'address': 'Valley 345'}\n",
      "{'_id': ObjectId('602cb64821d0601b54202921'), 'name': 'Richard', 'address': 'Sky st 331'}\n",
      "{'_id': ObjectId('602cb64821d0601b54202923'), 'name': 'Vicky', 'address': 'Yellow Garden 2'}\n",
      "{'_id': ObjectId('602cb64821d0601b54202927'), 'name': 'Viola', 'address': 'Sideway 1633'}\n",
      "{'_id': ObjectId('602cb65542e66a7ebf2112d7'), 'name': 'Michael', 'address': 'Valley 345'}\n",
      "{'_id': ObjectId('602cb65542e66a7ebf2112da'), 'name': 'Richard', 'address': 'Sky st 331'}\n",
      "{'_id': ObjectId('602cb65542e66a7ebf2112dc'), 'name': 'Vicky', 'address': 'Yellow Garden 2'}\n",
      "{'_id': ObjectId('602cb65542e66a7ebf2112e0'), 'name': 'Viola', 'address': 'Sideway 1633'}\n"
     ]
    }
   ],
   "source": [
    "myquery = { \"address\": { \"$gt\": \"S\" } }\n",
    "mydoc = mycol.find(myquery)\n",
    "for x in mydoc:\n",
    "  print(x)"
   ]
  },
  {
   "cell_type": "markdown",
   "metadata": {
    "colab_type": "text",
    "id": "B1W9jlEnB_cw"
   },
   "source": [
    "Sorting can be applied by invoking the Sort() method after the Find() method. Sort the collection by the name field:"
   ]
  },
  {
   "cell_type": "code",
   "execution_count": 24,
   "metadata": {
    "colab": {},
    "colab_type": "code",
    "id": "fzxxFYrtB_cw"
   },
   "outputs": [
    {
     "name": "stdout",
     "output_type": "stream",
     "text": [
      "{'_id': ObjectId('60251ea69794ff2ab48eaf41'), 'name': 'William', 'address': 'Central st 954'}\n",
      "{'_id': ObjectId('602cb2f143f48cef0e8f620d'), 'name': 'William', 'address': 'Central st 954'}\n",
      "{'_id': ObjectId('602cb4c6830c79a867cddcef'), 'name': 'William', 'address': 'Central st 954'}\n",
      "{'_id': ObjectId('602cb64821d0601b54202925'), 'name': 'William', 'address': 'Central st 954'}\n",
      "{'_id': ObjectId('602cb65542e66a7ebf2112de'), 'name': 'William', 'address': 'Central st 954'}\n",
      "{'_id': ObjectId('60251ea69794ff2ab48eaf43'), 'name': 'Viola', 'address': 'Sideway 1633'}\n",
      "{'_id': ObjectId('602cb2f143f48cef0e8f620f'), 'name': 'Viola', 'address': 'Sideway 1633'}\n",
      "{'_id': ObjectId('602cb4c6830c79a867cddcf1'), 'name': 'Viola', 'address': 'Sideway 1633'}\n",
      "{'_id': ObjectId('602cb64821d0601b54202927'), 'name': 'Viola', 'address': 'Sideway 1633'}\n",
      "{'_id': ObjectId('602cb65542e66a7ebf2112e0'), 'name': 'Viola', 'address': 'Sideway 1633'}\n",
      "{'_id': ObjectId('60251ea69794ff2ab48eaf3f'), 'name': 'Vicky', 'address': 'Yellow Garden 2'}\n",
      "{'_id': ObjectId('602cb2f143f48cef0e8f620b'), 'name': 'Vicky', 'address': 'Yellow Garden 2'}\n",
      "{'_id': ObjectId('602cb4c6830c79a867cddced'), 'name': 'Vicky', 'address': 'Yellow Garden 2'}\n",
      "{'_id': ObjectId('602cb64821d0601b54202923'), 'name': 'Vicky', 'address': 'Yellow Garden 2'}\n",
      "{'_id': ObjectId('602cb65542e66a7ebf2112dc'), 'name': 'Vicky', 'address': 'Yellow Garden 2'}\n",
      "{'_id': ObjectId('60251ea69794ff2ab48eaf3e'), 'name': 'Susan', 'address': 'One way 98'}\n",
      "{'_id': 9, 'name': 'Susan', 'address': 'One way 98'}\n",
      "{'_id': ObjectId('602cb2f143f48cef0e8f620a'), 'name': 'Susan', 'address': 'One way 98'}\n",
      "{'_id': ObjectId('602cb4c6830c79a867cddcec'), 'name': 'Susan', 'address': 'One way 98'}\n",
      "{'_id': ObjectId('602cb64821d0601b54202922'), 'name': 'Susan', 'address': 'One way 98'}\n",
      "{'_id': ObjectId('602cb65542e66a7ebf2112db'), 'name': 'Susan', 'address': 'One way 98'}\n",
      "{'_id': ObjectId('60251ea69794ff2ab48eaf3b'), 'name': 'Sandy', 'address': 'Ocean blvd 2'}\n",
      "{'_id': 6, 'name': 'Sandy', 'address': 'Ocean blvd 2'}\n",
      "{'_id': ObjectId('602cb2f143f48cef0e8f6207'), 'name': 'Sandy', 'address': 'Ocean blvd 2'}\n",
      "{'_id': ObjectId('602cb4c6830c79a867cddce9'), 'name': 'Sandy', 'address': 'Ocean blvd 2'}\n",
      "{'_id': ObjectId('602cb64821d0601b5420291f'), 'name': 'Sandy', 'address': 'Ocean blvd 2'}\n",
      "{'_id': ObjectId('602cb65542e66a7ebf2112d8'), 'name': 'Sandy', 'address': 'Ocean blvd 2'}\n",
      "{'_id': ObjectId('60251ea69794ff2ab48eaf3d'), 'name': 'Richard', 'address': 'Sky st 331'}\n",
      "{'_id': 8, 'name': 'Richard', 'address': 'Sky st 331'}\n",
      "{'_id': ObjectId('602cb2f143f48cef0e8f6209'), 'name': 'Richard', 'address': 'Sky st 331'}\n",
      "{'_id': ObjectId('602cb4c6830c79a867cddceb'), 'name': 'Richard', 'address': 'Sky st 331'}\n",
      "{'_id': ObjectId('602cb64821d0601b54202921'), 'name': 'Richard', 'address': 'Sky st 331'}\n",
      "{'_id': ObjectId('602cb65542e66a7ebf2112da'), 'name': 'Richard', 'address': 'Sky st 331'}\n",
      "{'_id': ObjectId('60251e4b9794ff2ab48eaf37'), 'name': 'Peter', 'address': 'Lowstreet 27'}\n",
      "{'_id': 2, 'name': 'Peter', 'address': 'Lowstreet 27'}\n",
      "{'_id': ObjectId('602cb2f143f48cef0e8f6203'), 'name': 'Peter', 'address': 'Lowstreet 27'}\n",
      "{'_id': ObjectId('602cb4c6830c79a867cddce5'), 'name': 'Peter', 'address': 'Lowstreet 27'}\n",
      "{'_id': ObjectId('602cb64821d0601b5420291b'), 'name': 'Peter', 'address': 'Lowstreet 27'}\n",
      "{'_id': ObjectId('602cb65542e66a7ebf2112d4'), 'name': 'Peter', 'address': 'Lowstreet 27'}\n",
      "{'_id': ObjectId('60251ea69794ff2ab48eaf3a'), 'name': 'Michael', 'address': 'Canyon 123'}\n",
      "{'_id': 5, 'name': 'Michael', 'address': 'Canyon 123'}\n",
      "{'_id': ObjectId('602cb2f143f48cef0e8f6206'), 'name': 'Michael', 'address': 'Canyon 123'}\n",
      "{'_id': ObjectId('602cb4c6830c79a867cddce8'), 'name': 'Michael', 'address': 'Valley 345'}\n",
      "{'_id': ObjectId('602cb64821d0601b5420291e'), 'name': 'Michael', 'address': 'Valley 345'}\n",
      "{'_id': ObjectId('602cb65542e66a7ebf2112d7'), 'name': 'Michael', 'address': 'Valley 345'}\n",
      "{'_id': 14, 'name': 'Manuel', 'address': 'Barcelona'}\n",
      "{'_id': ObjectId('60251e0d9794ff2ab48eaf36'), 'name': 'John', 'address': 'Highway 37'}\n",
      "{'_id': 1, 'name': 'John', 'address': 'Highway 37'}\n",
      "{'_id': ObjectId('602cb2f143f48cef0e8f6202'), 'name': 'John', 'address': 'Highway 37'}\n",
      "{'_id': ObjectId('602cb4c6830c79a867cddce4'), 'name': 'John', 'address': 'Highway 37'}\n",
      "{'_id': ObjectId('602cb64821d0601b5420291a'), 'name': 'John', 'address': 'Highway 37'}\n",
      "{'_id': ObjectId('602cb65542e66a7ebf2112d3'), 'name': 'John', 'address': 'Highway 37'}\n",
      "{'_id': ObjectId('602cb2f143f48cef0e8f6205'), 'name': 'Hannah', 'address': 'Mountain 21'}\n",
      "{'_id': ObjectId('602cb4c6830c79a867cddce7'), 'name': 'Hannah', 'address': 'Mountain 21'}\n",
      "{'_id': ObjectId('602cb64821d0601b5420291d'), 'name': 'Hannah', 'address': 'Mountain 21'}\n",
      "{'_id': ObjectId('602cb65542e66a7ebf2112d6'), 'name': 'Hannah', 'address': 'Mountain 21'}\n",
      "{'_id': ObjectId('60251ea69794ff2ab48eaf42'), 'name': 'Chuck', 'address': 'Main Road 989'}\n",
      "{'_id': ObjectId('602cb2f143f48cef0e8f620e'), 'name': 'Chuck', 'address': 'Main Road 989'}\n",
      "{'_id': ObjectId('602cb4c6830c79a867cddcf0'), 'name': 'Chuck', 'address': 'Main Road 989'}\n",
      "{'_id': ObjectId('602cb64821d0601b54202926'), 'name': 'Chuck', 'address': 'Main Road 989'}\n",
      "{'_id': ObjectId('602cb65542e66a7ebf2112df'), 'name': 'Chuck', 'address': 'Main Road 989'}\n",
      "{'_id': ObjectId('60251ea69794ff2ab48eaf3c'), 'name': 'Betty', 'address': 'Green Grass 1'}\n",
      "{'_id': 7, 'name': 'Betty', 'address': 'Green Grass 1'}\n",
      "{'_id': ObjectId('602cb2f143f48cef0e8f6208'), 'name': 'Betty', 'address': 'Green Grass 1'}\n",
      "{'_id': ObjectId('602cb4c6830c79a867cddcea'), 'name': 'Betty', 'address': 'Green Grass 1'}\n",
      "{'_id': ObjectId('602cb64821d0601b54202920'), 'name': 'Betty', 'address': 'Green Grass 1'}\n",
      "{'_id': ObjectId('602cb65542e66a7ebf2112d9'), 'name': 'Betty', 'address': 'Green Grass 1'}\n",
      "{'_id': ObjectId('60251ea69794ff2ab48eaf40'), 'name': 'Ben', 'address': 'Park Lane 38'}\n",
      "{'_id': ObjectId('602cb2f143f48cef0e8f620c'), 'name': 'Ben', 'address': 'Park Lane 38'}\n",
      "{'_id': ObjectId('602cb4c6830c79a867cddcee'), 'name': 'Ben', 'address': 'Park Lane 38'}\n",
      "{'_id': ObjectId('602cb64821d0601b54202924'), 'name': 'Ben', 'address': 'Park Lane 38'}\n",
      "{'_id': ObjectId('602cb65542e66a7ebf2112dd'), 'name': 'Ben', 'address': 'Park Lane 38'}\n",
      "{'_id': ObjectId('60251ea69794ff2ab48eaf38'), 'name': 'Amy', 'address': 'Apple st 652'}\n",
      "{'_id': 3, 'name': 'Amy', 'address': 'Apple st 652'}\n",
      "{'_id': ObjectId('602cb2f143f48cef0e8f6204'), 'name': 'Amy', 'address': 'Apple st 652'}\n",
      "{'_id': ObjectId('602cb4c6830c79a867cddce6'), 'name': 'Amy', 'address': 'Apple st 652'}\n",
      "{'_id': ObjectId('602cb64821d0601b5420291c'), 'name': 'Amy', 'address': 'Apple st 652'}\n",
      "{'_id': ObjectId('602cb65542e66a7ebf2112d5'), 'name': 'Amy', 'address': 'Apple st 652'}\n"
     ]
    }
   ],
   "source": [
    "mydoc = mycol.find().sort('name', -1)\n",
    "\n",
    "for x in mydoc:\n",
    "    print(x)"
   ]
  },
  {
   "cell_type": "markdown",
   "metadata": {
    "colab_type": "text",
    "id": "esbldZv0B_cx"
   },
   "source": [
    "Now sort in reverse order (HINT: The Sort() method takes an optional second parameter.)"
   ]
  },
  {
   "cell_type": "markdown",
   "metadata": {
    "colab_type": "text",
    "id": "s0oVQyDGB_cy"
   },
   "source": [
    "A single record can be deleted by specifying some criterion:"
   ]
  },
  {
   "cell_type": "code",
   "execution_count": 25,
   "metadata": {
    "colab": {},
    "colab_type": "code",
    "id": "8yxmQAs6B_cy"
   },
   "outputs": [
    {
     "data": {
      "text/plain": [
       "<pymongo.results.DeleteResult at 0x7fc5381242c0>"
      ]
     },
     "execution_count": 25,
     "metadata": {},
     "output_type": "execute_result"
    }
   ],
   "source": [
    "mycol.delete_one({ \"address\": \"Mountain 21\" })"
   ]
  },
  {
   "cell_type": "markdown",
   "metadata": {
    "colab_type": "text",
    "id": "QqH7lF-uB_c0"
   },
   "source": [
    "Now delete all docs with the 2-digit `Id` values:"
   ]
  },
  {
   "cell_type": "code",
   "execution_count": 26,
   "metadata": {
    "colab": {},
    "colab_type": "code",
    "id": "0pyYX1YUB_c0"
   },
   "outputs": [
    {
     "data": {
      "text/plain": [
       "<pymongo.results.DeleteResult at 0x7fc538124200>"
      ]
     },
     "execution_count": 26,
     "metadata": {},
     "output_type": "execute_result"
    }
   ],
   "source": [
    "mycol.delete_many({'_id':{'$gte': 10}})"
   ]
  },
  {
   "cell_type": "code",
   "execution_count": 27,
   "metadata": {},
   "outputs": [
    {
     "name": "stdout",
     "output_type": "stream",
     "text": [
      "{'_id': ObjectId('60251e0d9794ff2ab48eaf36'), 'name': 'John', 'address': 'Highway 37'}\n",
      "{'_id': ObjectId('60251e4b9794ff2ab48eaf37'), 'name': 'Peter', 'address': 'Lowstreet 27'}\n",
      "{'_id': ObjectId('60251ea69794ff2ab48eaf38'), 'name': 'Amy', 'address': 'Apple st 652'}\n",
      "{'_id': ObjectId('60251ea69794ff2ab48eaf3a'), 'name': 'Michael', 'address': 'Canyon 123'}\n",
      "{'_id': ObjectId('60251ea69794ff2ab48eaf3b'), 'name': 'Sandy', 'address': 'Ocean blvd 2'}\n",
      "{'_id': ObjectId('60251ea69794ff2ab48eaf3c'), 'name': 'Betty', 'address': 'Green Grass 1'}\n",
      "{'_id': ObjectId('60251ea69794ff2ab48eaf3d'), 'name': 'Richard', 'address': 'Sky st 331'}\n",
      "{'_id': ObjectId('60251ea69794ff2ab48eaf3e'), 'name': 'Susan', 'address': 'One way 98'}\n",
      "{'_id': ObjectId('60251ea69794ff2ab48eaf3f'), 'name': 'Vicky', 'address': 'Yellow Garden 2'}\n",
      "{'_id': ObjectId('60251ea69794ff2ab48eaf40'), 'name': 'Ben', 'address': 'Park Lane 38'}\n",
      "{'_id': ObjectId('60251ea69794ff2ab48eaf41'), 'name': 'William', 'address': 'Central st 954'}\n",
      "{'_id': ObjectId('60251ea69794ff2ab48eaf42'), 'name': 'Chuck', 'address': 'Main Road 989'}\n",
      "{'_id': ObjectId('60251ea69794ff2ab48eaf43'), 'name': 'Viola', 'address': 'Sideway 1633'}\n",
      "{'_id': 1, 'name': 'John', 'address': 'Highway 37'}\n",
      "{'_id': 2, 'name': 'Peter', 'address': 'Lowstreet 27'}\n",
      "{'_id': 3, 'name': 'Amy', 'address': 'Apple st 652'}\n",
      "{'_id': 5, 'name': 'Michael', 'address': 'Canyon 123'}\n",
      "{'_id': 6, 'name': 'Sandy', 'address': 'Ocean blvd 2'}\n",
      "{'_id': 7, 'name': 'Betty', 'address': 'Green Grass 1'}\n",
      "{'_id': 8, 'name': 'Richard', 'address': 'Sky st 331'}\n",
      "{'_id': 9, 'name': 'Susan', 'address': 'One way 98'}\n",
      "{'_id': ObjectId('602cb2f143f48cef0e8f6202'), 'name': 'John', 'address': 'Highway 37'}\n",
      "{'_id': ObjectId('602cb2f143f48cef0e8f6203'), 'name': 'Peter', 'address': 'Lowstreet 27'}\n",
      "{'_id': ObjectId('602cb2f143f48cef0e8f6204'), 'name': 'Amy', 'address': 'Apple st 652'}\n",
      "{'_id': ObjectId('602cb2f143f48cef0e8f6206'), 'name': 'Michael', 'address': 'Canyon 123'}\n",
      "{'_id': ObjectId('602cb2f143f48cef0e8f6207'), 'name': 'Sandy', 'address': 'Ocean blvd 2'}\n",
      "{'_id': ObjectId('602cb2f143f48cef0e8f6208'), 'name': 'Betty', 'address': 'Green Grass 1'}\n",
      "{'_id': ObjectId('602cb2f143f48cef0e8f6209'), 'name': 'Richard', 'address': 'Sky st 331'}\n",
      "{'_id': ObjectId('602cb2f143f48cef0e8f620a'), 'name': 'Susan', 'address': 'One way 98'}\n",
      "{'_id': ObjectId('602cb2f143f48cef0e8f620b'), 'name': 'Vicky', 'address': 'Yellow Garden 2'}\n",
      "{'_id': ObjectId('602cb2f143f48cef0e8f620c'), 'name': 'Ben', 'address': 'Park Lane 38'}\n",
      "{'_id': ObjectId('602cb2f143f48cef0e8f620d'), 'name': 'William', 'address': 'Central st 954'}\n",
      "{'_id': ObjectId('602cb2f143f48cef0e8f620e'), 'name': 'Chuck', 'address': 'Main Road 989'}\n",
      "{'_id': ObjectId('602cb2f143f48cef0e8f620f'), 'name': 'Viola', 'address': 'Sideway 1633'}\n",
      "{'_id': ObjectId('602cb4c6830c79a867cddce4'), 'name': 'John', 'address': 'Highway 37'}\n",
      "{'_id': ObjectId('602cb4c6830c79a867cddce5'), 'name': 'Peter', 'address': 'Lowstreet 27'}\n",
      "{'_id': ObjectId('602cb4c6830c79a867cddce6'), 'name': 'Amy', 'address': 'Apple st 652'}\n",
      "{'_id': ObjectId('602cb4c6830c79a867cddce7'), 'name': 'Hannah', 'address': 'Mountain 21'}\n",
      "{'_id': ObjectId('602cb4c6830c79a867cddce8'), 'name': 'Michael', 'address': 'Valley 345'}\n",
      "{'_id': ObjectId('602cb4c6830c79a867cddce9'), 'name': 'Sandy', 'address': 'Ocean blvd 2'}\n",
      "{'_id': ObjectId('602cb4c6830c79a867cddcea'), 'name': 'Betty', 'address': 'Green Grass 1'}\n",
      "{'_id': ObjectId('602cb4c6830c79a867cddceb'), 'name': 'Richard', 'address': 'Sky st 331'}\n",
      "{'_id': ObjectId('602cb4c6830c79a867cddcec'), 'name': 'Susan', 'address': 'One way 98'}\n",
      "{'_id': ObjectId('602cb4c6830c79a867cddced'), 'name': 'Vicky', 'address': 'Yellow Garden 2'}\n",
      "{'_id': ObjectId('602cb4c6830c79a867cddcee'), 'name': 'Ben', 'address': 'Park Lane 38'}\n",
      "{'_id': ObjectId('602cb4c6830c79a867cddcef'), 'name': 'William', 'address': 'Central st 954'}\n",
      "{'_id': ObjectId('602cb4c6830c79a867cddcf0'), 'name': 'Chuck', 'address': 'Main Road 989'}\n",
      "{'_id': ObjectId('602cb4c6830c79a867cddcf1'), 'name': 'Viola', 'address': 'Sideway 1633'}\n",
      "{'_id': ObjectId('602cb64821d0601b5420291a'), 'name': 'John', 'address': 'Highway 37'}\n",
      "{'_id': ObjectId('602cb64821d0601b5420291b'), 'name': 'Peter', 'address': 'Lowstreet 27'}\n",
      "{'_id': ObjectId('602cb64821d0601b5420291c'), 'name': 'Amy', 'address': 'Apple st 652'}\n",
      "{'_id': ObjectId('602cb64821d0601b5420291d'), 'name': 'Hannah', 'address': 'Mountain 21'}\n",
      "{'_id': ObjectId('602cb64821d0601b5420291e'), 'name': 'Michael', 'address': 'Valley 345'}\n",
      "{'_id': ObjectId('602cb64821d0601b5420291f'), 'name': 'Sandy', 'address': 'Ocean blvd 2'}\n",
      "{'_id': ObjectId('602cb64821d0601b54202920'), 'name': 'Betty', 'address': 'Green Grass 1'}\n",
      "{'_id': ObjectId('602cb64821d0601b54202921'), 'name': 'Richard', 'address': 'Sky st 331'}\n",
      "{'_id': ObjectId('602cb64821d0601b54202922'), 'name': 'Susan', 'address': 'One way 98'}\n",
      "{'_id': ObjectId('602cb64821d0601b54202923'), 'name': 'Vicky', 'address': 'Yellow Garden 2'}\n",
      "{'_id': ObjectId('602cb64821d0601b54202924'), 'name': 'Ben', 'address': 'Park Lane 38'}\n",
      "{'_id': ObjectId('602cb64821d0601b54202925'), 'name': 'William', 'address': 'Central st 954'}\n",
      "{'_id': ObjectId('602cb64821d0601b54202926'), 'name': 'Chuck', 'address': 'Main Road 989'}\n",
      "{'_id': ObjectId('602cb64821d0601b54202927'), 'name': 'Viola', 'address': 'Sideway 1633'}\n",
      "{'_id': ObjectId('602cb65542e66a7ebf2112d3'), 'name': 'John', 'address': 'Highway 37'}\n",
      "{'_id': ObjectId('602cb65542e66a7ebf2112d4'), 'name': 'Peter', 'address': 'Lowstreet 27'}\n",
      "{'_id': ObjectId('602cb65542e66a7ebf2112d5'), 'name': 'Amy', 'address': 'Apple st 652'}\n",
      "{'_id': ObjectId('602cb65542e66a7ebf2112d6'), 'name': 'Hannah', 'address': 'Mountain 21'}\n",
      "{'_id': ObjectId('602cb65542e66a7ebf2112d7'), 'name': 'Michael', 'address': 'Valley 345'}\n",
      "{'_id': ObjectId('602cb65542e66a7ebf2112d8'), 'name': 'Sandy', 'address': 'Ocean blvd 2'}\n",
      "{'_id': ObjectId('602cb65542e66a7ebf2112d9'), 'name': 'Betty', 'address': 'Green Grass 1'}\n",
      "{'_id': ObjectId('602cb65542e66a7ebf2112da'), 'name': 'Richard', 'address': 'Sky st 331'}\n",
      "{'_id': ObjectId('602cb65542e66a7ebf2112db'), 'name': 'Susan', 'address': 'One way 98'}\n",
      "{'_id': ObjectId('602cb65542e66a7ebf2112dc'), 'name': 'Vicky', 'address': 'Yellow Garden 2'}\n",
      "{'_id': ObjectId('602cb65542e66a7ebf2112dd'), 'name': 'Ben', 'address': 'Park Lane 38'}\n",
      "{'_id': ObjectId('602cb65542e66a7ebf2112de'), 'name': 'William', 'address': 'Central st 954'}\n",
      "{'_id': ObjectId('602cb65542e66a7ebf2112df'), 'name': 'Chuck', 'address': 'Main Road 989'}\n",
      "{'_id': ObjectId('602cb65542e66a7ebf2112e0'), 'name': 'Viola', 'address': 'Sideway 1633'}\n"
     ]
    }
   ],
   "source": [
    "for x in mycol.find():\n",
    "  print(x)"
   ]
  },
  {
   "cell_type": "markdown",
   "metadata": {
    "colab_type": "text",
    "id": "CsjxNZY6B_c1"
   },
   "source": [
    "This would delete all docs:\n",
    "`x = mycol.delete_many({})`\n",
    "\n",
    "This would remove the collection:\n",
    "`mycol.drop()`"
   ]
  },
  {
   "cell_type": "markdown",
   "metadata": {
    "colab_type": "text",
    "id": "2Dnc3vItB_c2"
   },
   "source": [
    "Change the first instance of \"address\" == \"Valley 345\" to \"Canyon 123\" using update_one().  \n",
    "(HINT: The 1st paramater of update_one() is the criterion (query); the 2nd is dict specifying the field to change and its new value.) "
   ]
  },
  {
   "cell_type": "code",
   "execution_count": 28,
   "metadata": {
    "colab": {},
    "colab_type": "code",
    "id": "lhd3SoGjB_c2"
   },
   "outputs": [
    {
     "name": "stdout",
     "output_type": "stream",
     "text": [
      "{'_id': ObjectId('60251e0d9794ff2ab48eaf36'), 'name': 'John', 'address': 'Highway 37'}\n",
      "{'_id': ObjectId('60251e4b9794ff2ab48eaf37'), 'name': 'Peter', 'address': 'Lowstreet 27'}\n",
      "{'_id': ObjectId('60251ea69794ff2ab48eaf38'), 'name': 'Amy', 'address': 'Apple st 652'}\n",
      "{'_id': ObjectId('60251ea69794ff2ab48eaf3a'), 'name': 'Michael', 'address': 'Canyon 123'}\n",
      "{'_id': ObjectId('60251ea69794ff2ab48eaf3b'), 'name': 'Sandy', 'address': 'Ocean blvd 2'}\n",
      "{'_id': ObjectId('60251ea69794ff2ab48eaf3c'), 'name': 'Betty', 'address': 'Green Grass 1'}\n",
      "{'_id': ObjectId('60251ea69794ff2ab48eaf3d'), 'name': 'Richard', 'address': 'Sky st 331'}\n",
      "{'_id': ObjectId('60251ea69794ff2ab48eaf3e'), 'name': 'Susan', 'address': 'One way 98'}\n",
      "{'_id': ObjectId('60251ea69794ff2ab48eaf3f'), 'name': 'Vicky', 'address': 'Yellow Garden 2'}\n",
      "{'_id': ObjectId('60251ea69794ff2ab48eaf40'), 'name': 'Ben', 'address': 'Park Lane 38'}\n",
      "{'_id': ObjectId('60251ea69794ff2ab48eaf41'), 'name': 'William', 'address': 'Central st 954'}\n",
      "{'_id': ObjectId('60251ea69794ff2ab48eaf42'), 'name': 'Chuck', 'address': 'Main Road 989'}\n",
      "{'_id': ObjectId('60251ea69794ff2ab48eaf43'), 'name': 'Viola', 'address': 'Sideway 1633'}\n",
      "{'_id': 1, 'name': 'John', 'address': 'Highway 37'}\n",
      "{'_id': 2, 'name': 'Peter', 'address': 'Lowstreet 27'}\n",
      "{'_id': 3, 'name': 'Amy', 'address': 'Apple st 652'}\n",
      "{'_id': 5, 'name': 'Michael', 'address': 'Canyon 123'}\n",
      "{'_id': 6, 'name': 'Sandy', 'address': 'Ocean blvd 2'}\n",
      "{'_id': 7, 'name': 'Betty', 'address': 'Green Grass 1'}\n",
      "{'_id': 8, 'name': 'Richard', 'address': 'Sky st 331'}\n",
      "{'_id': 9, 'name': 'Susan', 'address': 'One way 98'}\n",
      "{'_id': ObjectId('602cb2f143f48cef0e8f6202'), 'name': 'John', 'address': 'Highway 37'}\n",
      "{'_id': ObjectId('602cb2f143f48cef0e8f6203'), 'name': 'Peter', 'address': 'Lowstreet 27'}\n",
      "{'_id': ObjectId('602cb2f143f48cef0e8f6204'), 'name': 'Amy', 'address': 'Apple st 652'}\n",
      "{'_id': ObjectId('602cb2f143f48cef0e8f6206'), 'name': 'Michael', 'address': 'Canyon 123'}\n",
      "{'_id': ObjectId('602cb2f143f48cef0e8f6207'), 'name': 'Sandy', 'address': 'Ocean blvd 2'}\n",
      "{'_id': ObjectId('602cb2f143f48cef0e8f6208'), 'name': 'Betty', 'address': 'Green Grass 1'}\n",
      "{'_id': ObjectId('602cb2f143f48cef0e8f6209'), 'name': 'Richard', 'address': 'Sky st 331'}\n",
      "{'_id': ObjectId('602cb2f143f48cef0e8f620a'), 'name': 'Susan', 'address': 'One way 98'}\n",
      "{'_id': ObjectId('602cb2f143f48cef0e8f620b'), 'name': 'Vicky', 'address': 'Yellow Garden 2'}\n",
      "{'_id': ObjectId('602cb2f143f48cef0e8f620c'), 'name': 'Ben', 'address': 'Park Lane 38'}\n",
      "{'_id': ObjectId('602cb2f143f48cef0e8f620d'), 'name': 'William', 'address': 'Central st 954'}\n",
      "{'_id': ObjectId('602cb2f143f48cef0e8f620e'), 'name': 'Chuck', 'address': 'Main Road 989'}\n",
      "{'_id': ObjectId('602cb2f143f48cef0e8f620f'), 'name': 'Viola', 'address': 'Sideway 1633'}\n",
      "{'_id': ObjectId('602cb4c6830c79a867cddce4'), 'name': 'John', 'address': 'Highway 37'}\n",
      "{'_id': ObjectId('602cb4c6830c79a867cddce5'), 'name': 'Peter', 'address': 'Lowstreet 27'}\n",
      "{'_id': ObjectId('602cb4c6830c79a867cddce6'), 'name': 'Amy', 'address': 'Apple st 652'}\n",
      "{'_id': ObjectId('602cb4c6830c79a867cddce7'), 'name': 'Hannah', 'address': 'Mountain 21'}\n",
      "{'_id': ObjectId('602cb4c6830c79a867cddce8'), 'name': 'Michael', 'address': 'Canyon 123'}\n",
      "{'_id': ObjectId('602cb4c6830c79a867cddce9'), 'name': 'Sandy', 'address': 'Ocean blvd 2'}\n",
      "{'_id': ObjectId('602cb4c6830c79a867cddcea'), 'name': 'Betty', 'address': 'Green Grass 1'}\n",
      "{'_id': ObjectId('602cb4c6830c79a867cddceb'), 'name': 'Richard', 'address': 'Sky st 331'}\n",
      "{'_id': ObjectId('602cb4c6830c79a867cddcec'), 'name': 'Susan', 'address': 'One way 98'}\n",
      "{'_id': ObjectId('602cb4c6830c79a867cddced'), 'name': 'Vicky', 'address': 'Yellow Garden 2'}\n",
      "{'_id': ObjectId('602cb4c6830c79a867cddcee'), 'name': 'Ben', 'address': 'Park Lane 38'}\n",
      "{'_id': ObjectId('602cb4c6830c79a867cddcef'), 'name': 'William', 'address': 'Central st 954'}\n",
      "{'_id': ObjectId('602cb4c6830c79a867cddcf0'), 'name': 'Chuck', 'address': 'Main Road 989'}\n",
      "{'_id': ObjectId('602cb4c6830c79a867cddcf1'), 'name': 'Viola', 'address': 'Sideway 1633'}\n",
      "{'_id': ObjectId('602cb64821d0601b5420291a'), 'name': 'John', 'address': 'Highway 37'}\n",
      "{'_id': ObjectId('602cb64821d0601b5420291b'), 'name': 'Peter', 'address': 'Lowstreet 27'}\n",
      "{'_id': ObjectId('602cb64821d0601b5420291c'), 'name': 'Amy', 'address': 'Apple st 652'}\n",
      "{'_id': ObjectId('602cb64821d0601b5420291d'), 'name': 'Hannah', 'address': 'Mountain 21'}\n",
      "{'_id': ObjectId('602cb64821d0601b5420291e'), 'name': 'Michael', 'address': 'Valley 345'}\n",
      "{'_id': ObjectId('602cb64821d0601b5420291f'), 'name': 'Sandy', 'address': 'Ocean blvd 2'}\n",
      "{'_id': ObjectId('602cb64821d0601b54202920'), 'name': 'Betty', 'address': 'Green Grass 1'}\n",
      "{'_id': ObjectId('602cb64821d0601b54202921'), 'name': 'Richard', 'address': 'Sky st 331'}\n",
      "{'_id': ObjectId('602cb64821d0601b54202922'), 'name': 'Susan', 'address': 'One way 98'}\n",
      "{'_id': ObjectId('602cb64821d0601b54202923'), 'name': 'Vicky', 'address': 'Yellow Garden 2'}\n",
      "{'_id': ObjectId('602cb64821d0601b54202924'), 'name': 'Ben', 'address': 'Park Lane 38'}\n",
      "{'_id': ObjectId('602cb64821d0601b54202925'), 'name': 'William', 'address': 'Central st 954'}\n",
      "{'_id': ObjectId('602cb64821d0601b54202926'), 'name': 'Chuck', 'address': 'Main Road 989'}\n",
      "{'_id': ObjectId('602cb64821d0601b54202927'), 'name': 'Viola', 'address': 'Sideway 1633'}\n",
      "{'_id': ObjectId('602cb65542e66a7ebf2112d3'), 'name': 'John', 'address': 'Highway 37'}\n",
      "{'_id': ObjectId('602cb65542e66a7ebf2112d4'), 'name': 'Peter', 'address': 'Lowstreet 27'}\n",
      "{'_id': ObjectId('602cb65542e66a7ebf2112d5'), 'name': 'Amy', 'address': 'Apple st 652'}\n",
      "{'_id': ObjectId('602cb65542e66a7ebf2112d6'), 'name': 'Hannah', 'address': 'Mountain 21'}\n",
      "{'_id': ObjectId('602cb65542e66a7ebf2112d7'), 'name': 'Michael', 'address': 'Valley 345'}\n",
      "{'_id': ObjectId('602cb65542e66a7ebf2112d8'), 'name': 'Sandy', 'address': 'Ocean blvd 2'}\n",
      "{'_id': ObjectId('602cb65542e66a7ebf2112d9'), 'name': 'Betty', 'address': 'Green Grass 1'}\n",
      "{'_id': ObjectId('602cb65542e66a7ebf2112da'), 'name': 'Richard', 'address': 'Sky st 331'}\n",
      "{'_id': ObjectId('602cb65542e66a7ebf2112db'), 'name': 'Susan', 'address': 'One way 98'}\n",
      "{'_id': ObjectId('602cb65542e66a7ebf2112dc'), 'name': 'Vicky', 'address': 'Yellow Garden 2'}\n",
      "{'_id': ObjectId('602cb65542e66a7ebf2112dd'), 'name': 'Ben', 'address': 'Park Lane 38'}\n",
      "{'_id': ObjectId('602cb65542e66a7ebf2112de'), 'name': 'William', 'address': 'Central st 954'}\n",
      "{'_id': ObjectId('602cb65542e66a7ebf2112df'), 'name': 'Chuck', 'address': 'Main Road 989'}\n",
      "{'_id': ObjectId('602cb65542e66a7ebf2112e0'), 'name': 'Viola', 'address': 'Sideway 1633'}\n"
     ]
    }
   ],
   "source": [
    "myquery = {'address':'Valley 345'}\n",
    "new = {'$set': {'address':'Canyon 123'}}\n",
    "\n",
    "mycol.update_one(myquery,new)\n",
    "\n",
    "for x in mycol.find():\n",
    "    print(x)\n"
   ]
  },
  {
   "cell_type": "markdown",
   "metadata": {
    "colab_type": "text",
    "id": "56frrtHFB_c3"
   },
   "source": [
    "The limit() method can be applied after the find() method to limit the number of docs returned. Show the first 5 docs:"
   ]
  },
  {
   "cell_type": "code",
   "execution_count": 29,
   "metadata": {
    "colab": {},
    "colab_type": "code",
    "id": "iKI5zKUbB_c4"
   },
   "outputs": [
    {
     "name": "stdout",
     "output_type": "stream",
     "text": [
      "{'_id': ObjectId('60251e0d9794ff2ab48eaf36'), 'name': 'John', 'address': 'Highway 37'}\n",
      "{'_id': ObjectId('60251e4b9794ff2ab48eaf37'), 'name': 'Peter', 'address': 'Lowstreet 27'}\n",
      "{'_id': ObjectId('60251ea69794ff2ab48eaf38'), 'name': 'Amy', 'address': 'Apple st 652'}\n",
      "{'_id': ObjectId('60251ea69794ff2ab48eaf3a'), 'name': 'Michael', 'address': 'Canyon 123'}\n",
      "{'_id': ObjectId('60251ea69794ff2ab48eaf3b'), 'name': 'Sandy', 'address': 'Ocean blvd 2'}\n"
     ]
    }
   ],
   "source": [
    "result = mycol.find().limit(5)\n",
    "\n",
    "for x in result:\n",
    "    print(x)"
   ]
  },
  {
   "cell_type": "markdown",
   "metadata": {
    "colab_type": "text",
    "id": "eT0nESi-B_c5"
   },
   "source": [
    "## PyMongo for Data Science"
   ]
  },
  {
   "cell_type": "markdown",
   "metadata": {
    "colab_type": "text",
    "id": "S_MH0UFpB_c5"
   },
   "source": [
    "MongoDB has many more features of interest to developers, but the main focus of a data scientist will be wrangling and munging the data. It may or may not be desirable to do all the data munging in Pandas; for a large, distributed database, it may be imperative to perform aggregation in MongoDB. "
   ]
  },
  {
   "cell_type": "code",
   "execution_count": 30,
   "metadata": {
    "colab": {},
    "colab_type": "code",
    "id": "TM1rIsJuB_c5"
   },
   "outputs": [],
   "source": [
    "# Ref:  https://rsandstroem.github.io/MongoDBDemo.html\n",
    "\n",
    "import os\n",
    "import pandas as pd\n",
    "import numpy as np"
   ]
  },
  {
   "cell_type": "markdown",
   "metadata": {
    "colab_type": "text",
    "id": "L6kZkdjRB_c7"
   },
   "source": [
    "This code creates a database named \"test\" and populates it from a JSON file using the mongoimport program (executed in the operating systems itself, rather than in Python):"
   ]
  },
  {
   "cell_type": "code",
   "execution_count": 31,
   "metadata": {
    "colab": {},
    "colab_type": "code",
    "id": "Ts0egvaQB_c7"
   },
   "outputs": [],
   "source": [
    "db = client.test\n",
    "# Drop the collection in case it was previously created:\n",
    "collection = db.people\n",
    "collection.drop()"
   ]
  },
  {
   "cell_type": "code",
   "execution_count": 32,
   "metadata": {
    "colab": {},
    "colab_type": "code",
    "id": "vCGHi95WB_c8"
   },
   "outputs": [],
   "source": [
    "os.chdir(\"/Users/JohanNg/Institute of Data/Institute-of-Data/Lab 2\")"
   ]
  },
  {
   "cell_type": "code",
   "execution_count": 33,
   "metadata": {
    "colab": {},
    "colab_type": "code",
    "id": "xiJSDImFB_c8"
   },
   "outputs": [
    {
     "data": {
      "text/plain": [
       "'/Users/JohanNg/Institute of Data/Institute-of-Data/Lab 2'"
      ]
     },
     "execution_count": 33,
     "metadata": {},
     "output_type": "execute_result"
    }
   ],
   "source": [
    "pwd()"
   ]
  },
  {
   "cell_type": "code",
   "execution_count": 40,
   "metadata": {
    "colab": {},
    "colab_type": "code",
    "id": "uHLGg7K7B_c9"
   },
   "outputs": [
    {
     "data": {
      "text/plain": [
       "256"
      ]
     },
     "execution_count": 40,
     "metadata": {},
     "output_type": "execute_result"
    }
   ],
   "source": [
    "# if this does not return 0, execute mongoimport from a commmand window instead:\n",
    "os.system('mongoimport -d test -c people dummyData.json')"
   ]
  },
  {
   "cell_type": "code",
   "execution_count": 38,
   "metadata": {
    "colab": {},
    "colab_type": "code",
    "id": "3HZQUaT6B_c9"
   },
   "outputs": [],
   "source": [
    "os.chdir('/Users/JohanNg/Institute of Data/Institute-of-Data')"
   ]
  },
  {
   "cell_type": "code",
   "execution_count": 39,
   "metadata": {
    "colab": {},
    "colab_type": "code",
    "id": "7230pPFUB_c-"
   },
   "outputs": [
    {
     "data": {
      "text/plain": [
       "'/Users/JohanNg/Institute of Data/Institute-of-Data'"
      ]
     },
     "execution_count": 39,
     "metadata": {},
     "output_type": "execute_result"
    }
   ],
   "source": [
    "pwd()"
   ]
  },
  {
   "cell_type": "code",
   "execution_count": null,
   "metadata": {
    "colab": {},
    "colab_type": "code",
    "id": "fXByi5IfB_c_"
   },
   "outputs": [],
   "source": [
    "db = client.test\n",
    "collection = db.people\n",
    "cursor = collection.find().sort('Age',pymongo.ASCENDING).limit(3)\n",
    "for doc in cursor:\n",
    "    print (doc)"
   ]
  },
  {
   "cell_type": "markdown",
   "metadata": {
    "colab_type": "text",
    "id": "vPnfkW2tB_dA"
   },
   "source": [
    "Here is a small demonstration of the MongoDB aggregation framework. We want to create a table of the number of persons in each country and their average age. To do it we group by country. We extract the results from MongoDB aggregation into a pandas dataframe, and use the country as index."
   ]
  },
  {
   "cell_type": "code",
   "execution_count": null,
   "metadata": {
    "colab": {},
    "colab_type": "code",
    "id": "s2q_B0m5B_dA"
   },
   "outputs": [],
   "source": [
    "pipeline = [\n",
    "        {\"$group\": {\"_id\":\"$Country\",\n",
    "             \"AvgAge\":{\"$avg\":\"$Age\"},\n",
    "             \"Count\":{\"$sum\":1},\n",
    "        }},\n",
    "        {\"$sort\":{\"Count\":-1,\"AvgAge\":1}}\n",
    "]\n",
    "aggResult = collection.aggregate(pipeline) # returns a cursor\n",
    "\n",
    "df1 = pd.DataFrame(list(aggResult)) # use list to turn the cursor to an array of documents\n",
    "df1 = df1.set_index(\"_id\")\n",
    "df1.head()"
   ]
  },
  {
   "cell_type": "markdown",
   "metadata": {
    "colab_type": "text",
    "id": "H9vaINaBB_dB"
   },
   "source": [
    "For simple cases one can either use a cursor through find(\"search term\") or use the \"$match\" operator in the aggregation framework, like this:"
   ]
  },
  {
   "cell_type": "code",
   "execution_count": null,
   "metadata": {
    "colab": {},
    "colab_type": "code",
    "id": "3oymmJpUB_dB"
   },
   "outputs": [],
   "source": [
    "pipeline = [\n",
    "        {\"$match\": {\"Country\":\"China\"}},\n",
    "]\n",
    "aggResult = collection.aggregate(pipeline)\n",
    "df2 = pd.DataFrame(list(aggResult))\n",
    "df2.head()"
   ]
  },
  {
   "cell_type": "markdown",
   "metadata": {
    "colab_type": "text",
    "id": "terLdzDaB_dC"
   },
   "source": [
    "Now we can apply all the power of Python libraries to analyse and visualise the data. Here, we will use the folium package to plot markers for the locations of the people we just found in China (click on a marker to see their data):"
   ]
  },
  {
   "cell_type": "code",
   "execution_count": null,
   "metadata": {
    "colab": {},
    "colab_type": "code",
    "id": "v2lsaYlAB_dC"
   },
   "outputs": [],
   "source": [
    "# Un-comment and execute to install folium pkg (1st time only):\n",
    "# import sys\n",
    "# !{sys.executable} -m pip install folium"
   ]
  },
  {
   "cell_type": "code",
   "execution_count": null,
   "metadata": {
    "colab": {},
    "colab_type": "code",
    "id": "SuRbCt48B_dD"
   },
   "outputs": [],
   "source": [
    "import folium\n",
    "print ('Folium version ' + folium.__version__)\n",
    "\n",
    "world_map = folium.Map(location = [35, 100], zoom_start = 4)\n",
    "for i in range(len(df2)):\n",
    "    location = [float(loc) for loc in df2.Location[i].split(',')]\n",
    "    folium.Marker(location = location, popup = df2.Name[i] + ', age:' + str(df2.Age[i])).add_to(world_map)\n",
    "    \n",
    "world_map"
   ]
  },
  {
   "cell_type": "markdown",
   "metadata": {
    "colab_type": "text",
    "id": "Sr0Uxfq8B_dD"
   },
   "source": [
    "## HOMEWORK:\n"
   ]
  },
  {
   "cell_type": "markdown",
   "metadata": {
    "colab_type": "text",
    "id": "82_s5XvcB_dD"
   },
   "source": [
    "1. Read up on how to perform aggregation in mongoDB. Insert a duplicate record into the collection:\n",
    "        mydict = { \"name\": \"John\", \"address\": \"Highway 37\" }\n",
    "   Now write a command to find docs with a duplicate \"name\" field (using aggregation) and remove them.  \n",
    "   Print the collection."
   ]
  },
  {
   "cell_type": "code",
   "execution_count": null,
   "metadata": {
    "colab": {},
    "colab_type": "code",
    "id": "hnSSNTBuB_dD"
   },
   "outputs": [],
   "source": []
  },
  {
   "cell_type": "markdown",
   "metadata": {
    "colab_type": "text",
    "id": "1Ndwie7xB_dE"
   },
   "source": [
    "2. Read up on how to apply indexes in mongoDB. Create an index on the \"name\" and \"address\" fields in this collection.\n",
    "   Print the indexes for the collection."
   ]
  },
  {
   "cell_type": "code",
   "execution_count": null,
   "metadata": {
    "colab": {},
    "colab_type": "code",
    "id": "bFyHLpKyB_dE"
   },
   "outputs": [],
   "source": []
  },
  {
   "cell_type": "markdown",
   "metadata": {
    "colab_type": "text",
    "id": "Hj8GdoOXC-Lu"
   },
   "source": [
    "\n",
    "\n",
    "> \n",
    ">\n",
    ">\n",
    "\n",
    "\n"
   ]
  },
  {
   "cell_type": "markdown",
   "metadata": {
    "colab_type": "text",
    "id": "MlasiTKgDGdA"
   },
   "source": [
    "\n",
    "\n",
    "---\n",
    "\n",
    "\n",
    "\n",
    "---\n",
    "\n",
    "\n",
    "\n",
    "> > > > > > > > > © 2021 Institute of Data\n",
    "\n",
    "\n",
    "---\n",
    "\n",
    "\n",
    "\n",
    "---\n",
    "\n",
    "\n",
    "\n"
   ]
  }
 ],
 "metadata": {
  "colab": {
   "collapsed_sections": [
    "eT0nESi-B_c5"
   ],
   "name": "IOD_Lab 2.1.4.ipynb",
   "provenance": [
    {
     "file_id": "17D0zRG20oX_57CwR4eNwdLhO4Qhlk4Dx",
     "timestamp": 1553134552284
    }
   ]
  },
  "kernelspec": {
   "display_name": "Python 3",
   "language": "python",
   "name": "python3"
  },
  "language_info": {
   "codemirror_mode": {
    "name": "ipython",
    "version": 3
   },
   "file_extension": ".py",
   "mimetype": "text/x-python",
   "name": "python",
   "nbconvert_exporter": "python",
   "pygments_lexer": "ipython3",
   "version": "3.8.3"
  }
 },
 "nbformat": 4,
 "nbformat_minor": 1
}
